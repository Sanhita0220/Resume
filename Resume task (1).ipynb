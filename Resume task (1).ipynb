{
 "cells": [
  {
   "cell_type": "markdown",
   "id": "07ba52a6",
   "metadata": {},
   "source": [
    "## Resume ##\n",
    "<center><font color='Red'>THANGALLAPALLI SANHITA</font></center>\n",
    "\n",
    "Contact:9392........  \n",
    "\n",
    "Email id :tsanhita22@gmail.com\n",
    "\n",
    "<b><i><u><font color='Teal'>PHOTO</font></b></i></u>\n",
    "\n",
    "![Photo](http://localhost:8889/files/Untitled%20Folder/pic.png)\n",
    "\n",
    "        \n",
    "<font color='marine blue'><b>PROFFESIONAL OBJECTIVE:</b></font>\n",
    "    \n",
    "      A highly skilled SQL Developer with expertise developing Data management. Seeking a challenging role where I can leverage my strong SQL skills and experience to contribute to the success of projects, particularly those involving SQL Server, Microsoft Excel and Microsoft Power BI.\n",
    "    \n",
    "<font color='dark green'><b><i><u>SUMMARY</b></i></u></font>\n",
    "    \n",
    "* SQL Development: Extensive experience in writing complex SQL queries, optimizing query performance, and creating efficient database structures.\n",
    "* Building Functions: Proficient in creating user-defined functions in SQL to encapsulate logic and improve code reusability.\n",
    "* Group By and Having Command: Demonstrated expertise in using the GROUP BY clause and HAVING command to perform aggregations and filter query results.\n",
    "* Joins: Strong understanding of svarious types of joins (inner join, outer join, self-join) and the ability to use them effectively to combine data from multiple tables.\n",
    "* Sub queries: Skilled in utilizing sub queries to retrieve data from one query and use it in another, enhancing query flexibility and efficiency.    \n",
    "* Triggers: Experience in implementing triggers to automate actions or enforce business rules, ensuring data integrity and consistency.\n",
    "* PostgreSQL: In-depth knowledge of PostgreSQL database management system, including data modeling, query optimization, and performance tuning.\n",
    "* SQL Server: Proficient in working with SQL Server, including creating and managing databases, writing stored procedures, and performing database administration tasks.\n",
    "* SQL SERVER INTEGRATION SERVICES (SSIS): Control flow, Data flow, Execute SQL Tasks, SSIS packages, SQL Server Data Tools.\n",
    "* Power BI: Familiarity with Power BI for data visualization and analysis, including connecting to SQL databases, creating interactive reports, and designing dashboards\n",
    "    \n",
    "<font color='maroon'><b><i><u>PROJECT EXPERIENCE</b></i></u></font>\n",
    "\n",
    "<font color='golden yellow'><b><i><u>Project1:</b></i></u></font>\n",
    "\n",
    "<font color='lemon yellow'><b>Title:</b></font> Assurant Health and Insurance (AHI) \n",
    "\n",
    "<font color='green'><b><i><u>Environment:</b></i></u></font>SQL SERVER, Power Bi, Microsoft Excel\n",
    "\n",
    "<font color='turquoise'><b><i><u>Description:</b> </i></u></font> Assurant Health is an insurance company that provides Health Insurance.  The main aim of the project is find various premiums, claim paid to the policyholder, Commission paid to the Agents and premium received from the policyholder. The project focuses on tracking the premiums by channels, Marketing type and Locations. The implementation of this project aims to enhance the decision-making capabilities of a brand manager through the use of various reports and graphical charts.\n",
    "\n",
    "<font color='violet'><b><i><u>Roles & Responsibilities:</b></i></u></font>\n",
    "* Understanding the functional and technical specification, requirements,\n",
    "Analyzing Systems and source Databases.\n",
    "* •\tManaged SQL Server databases, developed and maintained stored procedures, triggers, and functions.\n",
    "* •\tDesigned and implemented database security measures to protect sensitive information.\n",
    "* •\tAssisted in troubleshooting database-related issues and provided technical support to end-users.\n",
    "* •\tCreated Measure name and Measure Value fields to create visualizations with\n",
    "multiple Measures and Dimensions and designed, developed and implemented Business Intelligence reports.\n",
    "* •\tAnalyzing dataset requirements and utilized parameters and input controls to provide users with control over specific values.\n",
    "* •\tResponsible for Dashboard design, layout and overall look and development.\n",
    "\n",
    "<font color='purple'><b><i><u>CERTIFICATION</b></i></u></font>\n",
    "Certificate of Completion in Power BI Program from PWC Switzerland through Forage Company.\n",
    "\n",
    "\n",
    "<font color='green'><b><i><u>EDUCATION</b></i></u></font>\n",
    "JNTU College of Engineering, Hyderabad M Tech- Electrical Power Engineering\n",
    "Passed out - March 2019\n",
    "\n",
    "<font color='yellow'><b><i><u>LANGUAGES KNOWN</b></i></u></font>\n",
    "* English\n",
    "* Telugu\n",
    "* Hindi\n",
    "\n",
    "<b><i><u>AUDIO CLIP</b></i></u> \n",
    "\n",
    "<audio width=\"320\" height=\"240\" \n",
    "       src=\"http://localhost:8889/files/Untitled%20Folder/sanhita.wav\"  \n",
    "       controls>\n",
    "</audio>\n",
    "\n",
    "\n"
   ]
  },
  {
   "cell_type": "code",
   "execution_count": null,
   "id": "0bc09048",
   "metadata": {},
   "outputs": [],
   "source": [
    "\n",
    "\n"
   ]
  },
  {
   "cell_type": "code",
   "execution_count": null,
   "id": "a84918af",
   "metadata": {},
   "outputs": [],
   "source": [
    "\n"
   ]
  }
 ],
 "metadata": {
  "kernelspec": {
   "display_name": "Python 3 (ipykernel)",
   "language": "python",
   "name": "python3"
  },
  "language_info": {
   "codemirror_mode": {
    "name": "ipython",
    "version": 3
   },
   "file_extension": ".py",
   "mimetype": "text/x-python",
   "name": "python",
   "nbconvert_exporter": "python",
   "pygments_lexer": "ipython3",
   "version": "3.10.9"
  }
 },
 "nbformat": 4,
 "nbformat_minor": 5
}
