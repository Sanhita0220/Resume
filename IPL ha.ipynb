{
 "cells": [
  {
   "cell_type": "code",
   "execution_count": 2,
   "id": "26ebf7f1",
   "metadata": {},
   "outputs": [],
   "source": [
    "import numpy as np\n",
    "import pandas as pd\n"
   ]
  },
  {
   "cell_type": "code",
   "execution_count": 3,
   "id": "45fa555c",
   "metadata": {},
   "outputs": [],
   "source": [
    "matches = pd.read_csv('matches.csv',parse_dates = [\"date\"],dayfirst = True)\n",
    "deliveries = pd.read_csv('deliveries.csv')\n"
   ]
  },
  {
   "cell_type": "code",
   "execution_count": 4,
   "id": "9bf11575",
   "metadata": {},
   "outputs": [
    {
     "data": {
      "text/html": [
       "<div>\n",
       "<style scoped>\n",
       "    .dataframe tbody tr th:only-of-type {\n",
       "        vertical-align: middle;\n",
       "    }\n",
       "\n",
       "    .dataframe tbody tr th {\n",
       "        vertical-align: top;\n",
       "    }\n",
       "\n",
       "    .dataframe thead th {\n",
       "        text-align: right;\n",
       "    }\n",
       "</style>\n",
       "<table border=\"1\" class=\"dataframe\">\n",
       "  <thead>\n",
       "    <tr style=\"text-align: right;\">\n",
       "      <th></th>\n",
       "      <th>id</th>\n",
       "      <th>season</th>\n",
       "      <th>city</th>\n",
       "      <th>date</th>\n",
       "      <th>team1</th>\n",
       "      <th>team2</th>\n",
       "      <th>toss_winner</th>\n",
       "      <th>toss_decision</th>\n",
       "      <th>result</th>\n",
       "      <th>dl_applied</th>\n",
       "      <th>winner</th>\n",
       "      <th>win_by_runs</th>\n",
       "      <th>win_by_wickets</th>\n",
       "      <th>player_of_match</th>\n",
       "      <th>venue</th>\n",
       "      <th>umpire1</th>\n",
       "      <th>umpire2</th>\n",
       "      <th>umpire3</th>\n",
       "    </tr>\n",
       "  </thead>\n",
       "  <tbody>\n",
       "    <tr>\n",
       "      <th>0</th>\n",
       "      <td>1</td>\n",
       "      <td>2017</td>\n",
       "      <td>Hyderabad</td>\n",
       "      <td>2017-04-05</td>\n",
       "      <td>Sunrisers Hyderabad</td>\n",
       "      <td>Royal Challengers Bangalore</td>\n",
       "      <td>Royal Challengers Bangalore</td>\n",
       "      <td>field</td>\n",
       "      <td>normal</td>\n",
       "      <td>0</td>\n",
       "      <td>Sunrisers Hyderabad</td>\n",
       "      <td>35</td>\n",
       "      <td>0</td>\n",
       "      <td>Yuvraj Singh</td>\n",
       "      <td>Rajiv Gandhi International Stadium, Uppal</td>\n",
       "      <td>AY Dandekar</td>\n",
       "      <td>NJ Llong</td>\n",
       "      <td>NaN</td>\n",
       "    </tr>\n",
       "    <tr>\n",
       "      <th>1</th>\n",
       "      <td>2</td>\n",
       "      <td>2017</td>\n",
       "      <td>Pune</td>\n",
       "      <td>2017-04-06</td>\n",
       "      <td>Mumbai Indians</td>\n",
       "      <td>Rising Pune Supergiant</td>\n",
       "      <td>Rising Pune Supergiant</td>\n",
       "      <td>field</td>\n",
       "      <td>normal</td>\n",
       "      <td>0</td>\n",
       "      <td>Rising Pune Supergiant</td>\n",
       "      <td>0</td>\n",
       "      <td>7</td>\n",
       "      <td>SPD Smith</td>\n",
       "      <td>Maharashtra Cricket Association Stadium</td>\n",
       "      <td>A Nand Kishore</td>\n",
       "      <td>S Ravi</td>\n",
       "      <td>NaN</td>\n",
       "    </tr>\n",
       "    <tr>\n",
       "      <th>2</th>\n",
       "      <td>3</td>\n",
       "      <td>2017</td>\n",
       "      <td>Rajkot</td>\n",
       "      <td>2017-04-07</td>\n",
       "      <td>Gujarat Lions</td>\n",
       "      <td>Kolkata Knight Riders</td>\n",
       "      <td>Kolkata Knight Riders</td>\n",
       "      <td>field</td>\n",
       "      <td>normal</td>\n",
       "      <td>0</td>\n",
       "      <td>Kolkata Knight Riders</td>\n",
       "      <td>0</td>\n",
       "      <td>10</td>\n",
       "      <td>CA Lynn</td>\n",
       "      <td>Saurashtra Cricket Association Stadium</td>\n",
       "      <td>Nitin Menon</td>\n",
       "      <td>CK Nandan</td>\n",
       "      <td>NaN</td>\n",
       "    </tr>\n",
       "    <tr>\n",
       "      <th>3</th>\n",
       "      <td>4</td>\n",
       "      <td>2017</td>\n",
       "      <td>Indore</td>\n",
       "      <td>2017-04-08</td>\n",
       "      <td>Rising Pune Supergiant</td>\n",
       "      <td>Kings XI Punjab</td>\n",
       "      <td>Kings XI Punjab</td>\n",
       "      <td>field</td>\n",
       "      <td>normal</td>\n",
       "      <td>0</td>\n",
       "      <td>Kings XI Punjab</td>\n",
       "      <td>0</td>\n",
       "      <td>6</td>\n",
       "      <td>GJ Maxwell</td>\n",
       "      <td>Holkar Cricket Stadium</td>\n",
       "      <td>AK Chaudhary</td>\n",
       "      <td>C Shamshuddin</td>\n",
       "      <td>NaN</td>\n",
       "    </tr>\n",
       "    <tr>\n",
       "      <th>4</th>\n",
       "      <td>5</td>\n",
       "      <td>2017</td>\n",
       "      <td>Bangalore</td>\n",
       "      <td>2017-04-08</td>\n",
       "      <td>Royal Challengers Bangalore</td>\n",
       "      <td>Delhi Daredevils</td>\n",
       "      <td>Royal Challengers Bangalore</td>\n",
       "      <td>bat</td>\n",
       "      <td>normal</td>\n",
       "      <td>0</td>\n",
       "      <td>Royal Challengers Bangalore</td>\n",
       "      <td>15</td>\n",
       "      <td>0</td>\n",
       "      <td>KM Jadhav</td>\n",
       "      <td>M Chinnaswamy Stadium</td>\n",
       "      <td>NaN</td>\n",
       "      <td>NaN</td>\n",
       "      <td>NaN</td>\n",
       "    </tr>\n",
       "  </tbody>\n",
       "</table>\n",
       "</div>"
      ],
      "text/plain": [
       "   id  season       city       date                        team1  \\\n",
       "0   1    2017  Hyderabad 2017-04-05          Sunrisers Hyderabad   \n",
       "1   2    2017       Pune 2017-04-06               Mumbai Indians   \n",
       "2   3    2017     Rajkot 2017-04-07                Gujarat Lions   \n",
       "3   4    2017     Indore 2017-04-08       Rising Pune Supergiant   \n",
       "4   5    2017  Bangalore 2017-04-08  Royal Challengers Bangalore   \n",
       "\n",
       "                         team2                  toss_winner toss_decision  \\\n",
       "0  Royal Challengers Bangalore  Royal Challengers Bangalore         field   \n",
       "1       Rising Pune Supergiant       Rising Pune Supergiant         field   \n",
       "2        Kolkata Knight Riders        Kolkata Knight Riders         field   \n",
       "3              Kings XI Punjab              Kings XI Punjab         field   \n",
       "4             Delhi Daredevils  Royal Challengers Bangalore           bat   \n",
       "\n",
       "   result  dl_applied                       winner  win_by_runs  \\\n",
       "0  normal           0          Sunrisers Hyderabad           35   \n",
       "1  normal           0       Rising Pune Supergiant            0   \n",
       "2  normal           0        Kolkata Knight Riders            0   \n",
       "3  normal           0              Kings XI Punjab            0   \n",
       "4  normal           0  Royal Challengers Bangalore           15   \n",
       "\n",
       "   win_by_wickets player_of_match                                      venue  \\\n",
       "0               0    Yuvraj Singh  Rajiv Gandhi International Stadium, Uppal   \n",
       "1               7       SPD Smith    Maharashtra Cricket Association Stadium   \n",
       "2              10         CA Lynn     Saurashtra Cricket Association Stadium   \n",
       "3               6      GJ Maxwell                     Holkar Cricket Stadium   \n",
       "4               0       KM Jadhav                      M Chinnaswamy Stadium   \n",
       "\n",
       "          umpire1        umpire2 umpire3  \n",
       "0     AY Dandekar       NJ Llong     NaN  \n",
       "1  A Nand Kishore         S Ravi     NaN  \n",
       "2     Nitin Menon      CK Nandan     NaN  \n",
       "3    AK Chaudhary  C Shamshuddin     NaN  \n",
       "4             NaN            NaN     NaN  "
      ]
     },
     "execution_count": 4,
     "metadata": {},
     "output_type": "execute_result"
    }
   ],
   "source": [
    "matches.head()"
   ]
  },
  {
   "cell_type": "code",
   "execution_count": 5,
   "id": "bcafd7f2",
   "metadata": {},
   "outputs": [
    {
     "data": {
      "text/html": [
       "<div>\n",
       "<style scoped>\n",
       "    .dataframe tbody tr th:only-of-type {\n",
       "        vertical-align: middle;\n",
       "    }\n",
       "\n",
       "    .dataframe tbody tr th {\n",
       "        vertical-align: top;\n",
       "    }\n",
       "\n",
       "    .dataframe thead th {\n",
       "        text-align: right;\n",
       "    }\n",
       "</style>\n",
       "<table border=\"1\" class=\"dataframe\">\n",
       "  <thead>\n",
       "    <tr style=\"text-align: right;\">\n",
       "      <th></th>\n",
       "      <th>match_id</th>\n",
       "      <th>inning</th>\n",
       "      <th>batting_team</th>\n",
       "      <th>bowling_team</th>\n",
       "      <th>over</th>\n",
       "      <th>ball</th>\n",
       "      <th>batsman</th>\n",
       "      <th>non_striker</th>\n",
       "      <th>bowler</th>\n",
       "      <th>is_super_over</th>\n",
       "      <th>...</th>\n",
       "      <th>bye_runs</th>\n",
       "      <th>legbye_runs</th>\n",
       "      <th>noball_runs</th>\n",
       "      <th>penalty_runs</th>\n",
       "      <th>batsman_runs</th>\n",
       "      <th>extra_runs</th>\n",
       "      <th>total_runs</th>\n",
       "      <th>player_dismissed</th>\n",
       "      <th>dismissal_kind</th>\n",
       "      <th>fielder</th>\n",
       "    </tr>\n",
       "  </thead>\n",
       "  <tbody>\n",
       "    <tr>\n",
       "      <th>0</th>\n",
       "      <td>1</td>\n",
       "      <td>1</td>\n",
       "      <td>Sunrisers Hyderabad</td>\n",
       "      <td>Royal Challengers Bangalore</td>\n",
       "      <td>1</td>\n",
       "      <td>1</td>\n",
       "      <td>DA Warner</td>\n",
       "      <td>S Dhawan</td>\n",
       "      <td>TS Mills</td>\n",
       "      <td>0</td>\n",
       "      <td>...</td>\n",
       "      <td>0</td>\n",
       "      <td>0</td>\n",
       "      <td>0</td>\n",
       "      <td>0</td>\n",
       "      <td>0</td>\n",
       "      <td>0</td>\n",
       "      <td>0</td>\n",
       "      <td>NaN</td>\n",
       "      <td>NaN</td>\n",
       "      <td>NaN</td>\n",
       "    </tr>\n",
       "    <tr>\n",
       "      <th>1</th>\n",
       "      <td>1</td>\n",
       "      <td>1</td>\n",
       "      <td>Sunrisers Hyderabad</td>\n",
       "      <td>Royal Challengers Bangalore</td>\n",
       "      <td>1</td>\n",
       "      <td>2</td>\n",
       "      <td>DA Warner</td>\n",
       "      <td>S Dhawan</td>\n",
       "      <td>TS Mills</td>\n",
       "      <td>0</td>\n",
       "      <td>...</td>\n",
       "      <td>0</td>\n",
       "      <td>0</td>\n",
       "      <td>0</td>\n",
       "      <td>0</td>\n",
       "      <td>0</td>\n",
       "      <td>0</td>\n",
       "      <td>0</td>\n",
       "      <td>NaN</td>\n",
       "      <td>NaN</td>\n",
       "      <td>NaN</td>\n",
       "    </tr>\n",
       "    <tr>\n",
       "      <th>2</th>\n",
       "      <td>1</td>\n",
       "      <td>1</td>\n",
       "      <td>Sunrisers Hyderabad</td>\n",
       "      <td>Royal Challengers Bangalore</td>\n",
       "      <td>1</td>\n",
       "      <td>3</td>\n",
       "      <td>DA Warner</td>\n",
       "      <td>S Dhawan</td>\n",
       "      <td>TS Mills</td>\n",
       "      <td>0</td>\n",
       "      <td>...</td>\n",
       "      <td>0</td>\n",
       "      <td>0</td>\n",
       "      <td>0</td>\n",
       "      <td>0</td>\n",
       "      <td>4</td>\n",
       "      <td>0</td>\n",
       "      <td>4</td>\n",
       "      <td>NaN</td>\n",
       "      <td>NaN</td>\n",
       "      <td>NaN</td>\n",
       "    </tr>\n",
       "    <tr>\n",
       "      <th>3</th>\n",
       "      <td>1</td>\n",
       "      <td>1</td>\n",
       "      <td>Sunrisers Hyderabad</td>\n",
       "      <td>Royal Challengers Bangalore</td>\n",
       "      <td>1</td>\n",
       "      <td>4</td>\n",
       "      <td>DA Warner</td>\n",
       "      <td>S Dhawan</td>\n",
       "      <td>TS Mills</td>\n",
       "      <td>0</td>\n",
       "      <td>...</td>\n",
       "      <td>0</td>\n",
       "      <td>0</td>\n",
       "      <td>0</td>\n",
       "      <td>0</td>\n",
       "      <td>0</td>\n",
       "      <td>0</td>\n",
       "      <td>0</td>\n",
       "      <td>NaN</td>\n",
       "      <td>NaN</td>\n",
       "      <td>NaN</td>\n",
       "    </tr>\n",
       "    <tr>\n",
       "      <th>4</th>\n",
       "      <td>1</td>\n",
       "      <td>1</td>\n",
       "      <td>Sunrisers Hyderabad</td>\n",
       "      <td>Royal Challengers Bangalore</td>\n",
       "      <td>1</td>\n",
       "      <td>5</td>\n",
       "      <td>DA Warner</td>\n",
       "      <td>S Dhawan</td>\n",
       "      <td>TS Mills</td>\n",
       "      <td>0</td>\n",
       "      <td>...</td>\n",
       "      <td>0</td>\n",
       "      <td>0</td>\n",
       "      <td>0</td>\n",
       "      <td>0</td>\n",
       "      <td>0</td>\n",
       "      <td>2</td>\n",
       "      <td>2</td>\n",
       "      <td>NaN</td>\n",
       "      <td>NaN</td>\n",
       "      <td>NaN</td>\n",
       "    </tr>\n",
       "  </tbody>\n",
       "</table>\n",
       "<p>5 rows × 21 columns</p>\n",
       "</div>"
      ],
      "text/plain": [
       "   match_id  inning         batting_team                 bowling_team  over  \\\n",
       "0         1       1  Sunrisers Hyderabad  Royal Challengers Bangalore     1   \n",
       "1         1       1  Sunrisers Hyderabad  Royal Challengers Bangalore     1   \n",
       "2         1       1  Sunrisers Hyderabad  Royal Challengers Bangalore     1   \n",
       "3         1       1  Sunrisers Hyderabad  Royal Challengers Bangalore     1   \n",
       "4         1       1  Sunrisers Hyderabad  Royal Challengers Bangalore     1   \n",
       "\n",
       "   ball    batsman non_striker    bowler  is_super_over  ...  bye_runs  \\\n",
       "0     1  DA Warner    S Dhawan  TS Mills              0  ...         0   \n",
       "1     2  DA Warner    S Dhawan  TS Mills              0  ...         0   \n",
       "2     3  DA Warner    S Dhawan  TS Mills              0  ...         0   \n",
       "3     4  DA Warner    S Dhawan  TS Mills              0  ...         0   \n",
       "4     5  DA Warner    S Dhawan  TS Mills              0  ...         0   \n",
       "\n",
       "   legbye_runs  noball_runs  penalty_runs  batsman_runs  extra_runs  \\\n",
       "0            0            0             0             0           0   \n",
       "1            0            0             0             0           0   \n",
       "2            0            0             0             4           0   \n",
       "3            0            0             0             0           0   \n",
       "4            0            0             0             0           2   \n",
       "\n",
       "   total_runs  player_dismissed dismissal_kind fielder  \n",
       "0           0               NaN            NaN     NaN  \n",
       "1           0               NaN            NaN     NaN  \n",
       "2           4               NaN            NaN     NaN  \n",
       "3           0               NaN            NaN     NaN  \n",
       "4           2               NaN            NaN     NaN  \n",
       "\n",
       "[5 rows x 21 columns]"
      ]
     },
     "execution_count": 5,
     "metadata": {},
     "output_type": "execute_result"
    }
   ],
   "source": [
    "deliveries.head()"
   ]
  },
  {
   "cell_type": "code",
   "execution_count": 6,
   "id": "ac43bde9",
   "metadata": {},
   "outputs": [
    {
     "data": {
      "text/plain": [
       "Index(['id', 'season', 'city', 'date', 'team1', 'team2', 'toss_winner',\n",
       "       'toss_decision', 'result', 'dl_applied', 'winner', 'win_by_runs',\n",
       "       'win_by_wickets', 'player_of_match', 'venue', 'umpire1', 'umpire2',\n",
       "       'umpire3'],\n",
       "      dtype='object')"
      ]
     },
     "execution_count": 6,
     "metadata": {},
     "output_type": "execute_result"
    }
   ],
   "source": [
    "matches.columns"
   ]
  },
  {
   "cell_type": "code",
   "execution_count": 7,
   "id": "ea4c1b87",
   "metadata": {},
   "outputs": [
    {
     "data": {
      "text/plain": [
       "Index(['match_id', 'inning', 'batting_team', 'bowling_team', 'over', 'ball',\n",
       "       'batsman', 'non_striker', 'bowler', 'is_super_over', 'wide_runs',\n",
       "       'bye_runs', 'legbye_runs', 'noball_runs', 'penalty_runs',\n",
       "       'batsman_runs', 'extra_runs', 'total_runs', 'player_dismissed',\n",
       "       'dismissal_kind', 'fielder'],\n",
       "      dtype='object')"
      ]
     },
     "execution_count": 7,
     "metadata": {},
     "output_type": "execute_result"
    }
   ],
   "source": [
    "deliveries.columns"
   ]
  },
  {
   "cell_type": "code",
   "execution_count": null,
   "id": "dc42b7ea",
   "metadata": {},
   "outputs": [],
   "source": [
    "deliveries.columns = deliveries.columns.str.strip().str.lower()\n",
    "deliveries.columns"
   ]
  },
  {
   "cell_type": "code",
   "execution_count": 8,
   "id": "c8908754",
   "metadata": {},
   "outputs": [
    {
     "data": {
      "text/html": [
       "<div>\n",
       "<style scoped>\n",
       "    .dataframe tbody tr th:only-of-type {\n",
       "        vertical-align: middle;\n",
       "    }\n",
       "\n",
       "    .dataframe tbody tr th {\n",
       "        vertical-align: top;\n",
       "    }\n",
       "\n",
       "    .dataframe thead th {\n",
       "        text-align: right;\n",
       "    }\n",
       "</style>\n",
       "<table border=\"1\" class=\"dataframe\">\n",
       "  <thead>\n",
       "    <tr style=\"text-align: right;\">\n",
       "      <th></th>\n",
       "      <th>match_id</th>\n",
       "      <th>inning</th>\n",
       "      <th>batting_team</th>\n",
       "      <th>bowling_team</th>\n",
       "      <th>over</th>\n",
       "      <th>ball</th>\n",
       "      <th>batsman</th>\n",
       "      <th>non_striker</th>\n",
       "      <th>bowler</th>\n",
       "      <th>is_super_over</th>\n",
       "      <th>...</th>\n",
       "      <th>result</th>\n",
       "      <th>dl_applied</th>\n",
       "      <th>winner</th>\n",
       "      <th>win_by_runs</th>\n",
       "      <th>win_by_wickets</th>\n",
       "      <th>player_of_match</th>\n",
       "      <th>venue</th>\n",
       "      <th>umpire1</th>\n",
       "      <th>umpire2</th>\n",
       "      <th>umpire3</th>\n",
       "    </tr>\n",
       "  </thead>\n",
       "  <tbody>\n",
       "    <tr>\n",
       "      <th>0</th>\n",
       "      <td>1</td>\n",
       "      <td>1</td>\n",
       "      <td>Sunrisers Hyderabad</td>\n",
       "      <td>Royal Challengers Bangalore</td>\n",
       "      <td>1</td>\n",
       "      <td>1</td>\n",
       "      <td>DA Warner</td>\n",
       "      <td>S Dhawan</td>\n",
       "      <td>TS Mills</td>\n",
       "      <td>0</td>\n",
       "      <td>...</td>\n",
       "      <td>normal</td>\n",
       "      <td>0</td>\n",
       "      <td>Sunrisers Hyderabad</td>\n",
       "      <td>35</td>\n",
       "      <td>0</td>\n",
       "      <td>Yuvraj Singh</td>\n",
       "      <td>Rajiv Gandhi International Stadium, Uppal</td>\n",
       "      <td>AY Dandekar</td>\n",
       "      <td>NJ Llong</td>\n",
       "      <td>NaN</td>\n",
       "    </tr>\n",
       "    <tr>\n",
       "      <th>1</th>\n",
       "      <td>1</td>\n",
       "      <td>1</td>\n",
       "      <td>Sunrisers Hyderabad</td>\n",
       "      <td>Royal Challengers Bangalore</td>\n",
       "      <td>1</td>\n",
       "      <td>2</td>\n",
       "      <td>DA Warner</td>\n",
       "      <td>S Dhawan</td>\n",
       "      <td>TS Mills</td>\n",
       "      <td>0</td>\n",
       "      <td>...</td>\n",
       "      <td>normal</td>\n",
       "      <td>0</td>\n",
       "      <td>Sunrisers Hyderabad</td>\n",
       "      <td>35</td>\n",
       "      <td>0</td>\n",
       "      <td>Yuvraj Singh</td>\n",
       "      <td>Rajiv Gandhi International Stadium, Uppal</td>\n",
       "      <td>AY Dandekar</td>\n",
       "      <td>NJ Llong</td>\n",
       "      <td>NaN</td>\n",
       "    </tr>\n",
       "    <tr>\n",
       "      <th>2</th>\n",
       "      <td>1</td>\n",
       "      <td>1</td>\n",
       "      <td>Sunrisers Hyderabad</td>\n",
       "      <td>Royal Challengers Bangalore</td>\n",
       "      <td>1</td>\n",
       "      <td>3</td>\n",
       "      <td>DA Warner</td>\n",
       "      <td>S Dhawan</td>\n",
       "      <td>TS Mills</td>\n",
       "      <td>0</td>\n",
       "      <td>...</td>\n",
       "      <td>normal</td>\n",
       "      <td>0</td>\n",
       "      <td>Sunrisers Hyderabad</td>\n",
       "      <td>35</td>\n",
       "      <td>0</td>\n",
       "      <td>Yuvraj Singh</td>\n",
       "      <td>Rajiv Gandhi International Stadium, Uppal</td>\n",
       "      <td>AY Dandekar</td>\n",
       "      <td>NJ Llong</td>\n",
       "      <td>NaN</td>\n",
       "    </tr>\n",
       "    <tr>\n",
       "      <th>3</th>\n",
       "      <td>1</td>\n",
       "      <td>1</td>\n",
       "      <td>Sunrisers Hyderabad</td>\n",
       "      <td>Royal Challengers Bangalore</td>\n",
       "      <td>1</td>\n",
       "      <td>4</td>\n",
       "      <td>DA Warner</td>\n",
       "      <td>S Dhawan</td>\n",
       "      <td>TS Mills</td>\n",
       "      <td>0</td>\n",
       "      <td>...</td>\n",
       "      <td>normal</td>\n",
       "      <td>0</td>\n",
       "      <td>Sunrisers Hyderabad</td>\n",
       "      <td>35</td>\n",
       "      <td>0</td>\n",
       "      <td>Yuvraj Singh</td>\n",
       "      <td>Rajiv Gandhi International Stadium, Uppal</td>\n",
       "      <td>AY Dandekar</td>\n",
       "      <td>NJ Llong</td>\n",
       "      <td>NaN</td>\n",
       "    </tr>\n",
       "    <tr>\n",
       "      <th>4</th>\n",
       "      <td>1</td>\n",
       "      <td>1</td>\n",
       "      <td>Sunrisers Hyderabad</td>\n",
       "      <td>Royal Challengers Bangalore</td>\n",
       "      <td>1</td>\n",
       "      <td>5</td>\n",
       "      <td>DA Warner</td>\n",
       "      <td>S Dhawan</td>\n",
       "      <td>TS Mills</td>\n",
       "      <td>0</td>\n",
       "      <td>...</td>\n",
       "      <td>normal</td>\n",
       "      <td>0</td>\n",
       "      <td>Sunrisers Hyderabad</td>\n",
       "      <td>35</td>\n",
       "      <td>0</td>\n",
       "      <td>Yuvraj Singh</td>\n",
       "      <td>Rajiv Gandhi International Stadium, Uppal</td>\n",
       "      <td>AY Dandekar</td>\n",
       "      <td>NJ Llong</td>\n",
       "      <td>NaN</td>\n",
       "    </tr>\n",
       "  </tbody>\n",
       "</table>\n",
       "<p>5 rows × 39 columns</p>\n",
       "</div>"
      ],
      "text/plain": [
       "   match_id  inning         batting_team                 bowling_team  over  \\\n",
       "0         1       1  Sunrisers Hyderabad  Royal Challengers Bangalore     1   \n",
       "1         1       1  Sunrisers Hyderabad  Royal Challengers Bangalore     1   \n",
       "2         1       1  Sunrisers Hyderabad  Royal Challengers Bangalore     1   \n",
       "3         1       1  Sunrisers Hyderabad  Royal Challengers Bangalore     1   \n",
       "4         1       1  Sunrisers Hyderabad  Royal Challengers Bangalore     1   \n",
       "\n",
       "   ball    batsman non_striker    bowler  is_super_over  ...  result  \\\n",
       "0     1  DA Warner    S Dhawan  TS Mills              0  ...  normal   \n",
       "1     2  DA Warner    S Dhawan  TS Mills              0  ...  normal   \n",
       "2     3  DA Warner    S Dhawan  TS Mills              0  ...  normal   \n",
       "3     4  DA Warner    S Dhawan  TS Mills              0  ...  normal   \n",
       "4     5  DA Warner    S Dhawan  TS Mills              0  ...  normal   \n",
       "\n",
       "   dl_applied               winner  win_by_runs  win_by_wickets  \\\n",
       "0           0  Sunrisers Hyderabad           35               0   \n",
       "1           0  Sunrisers Hyderabad           35               0   \n",
       "2           0  Sunrisers Hyderabad           35               0   \n",
       "3           0  Sunrisers Hyderabad           35               0   \n",
       "4           0  Sunrisers Hyderabad           35               0   \n",
       "\n",
       "   player_of_match                                      venue      umpire1  \\\n",
       "0     Yuvraj Singh  Rajiv Gandhi International Stadium, Uppal  AY Dandekar   \n",
       "1     Yuvraj Singh  Rajiv Gandhi International Stadium, Uppal  AY Dandekar   \n",
       "2     Yuvraj Singh  Rajiv Gandhi International Stadium, Uppal  AY Dandekar   \n",
       "3     Yuvraj Singh  Rajiv Gandhi International Stadium, Uppal  AY Dandekar   \n",
       "4     Yuvraj Singh  Rajiv Gandhi International Stadium, Uppal  AY Dandekar   \n",
       "\n",
       "    umpire2 umpire3  \n",
       "0  NJ Llong     NaN  \n",
       "1  NJ Llong     NaN  \n",
       "2  NJ Llong     NaN  \n",
       "3  NJ Llong     NaN  \n",
       "4  NJ Llong     NaN  \n",
       "\n",
       "[5 rows x 39 columns]"
      ]
     },
     "execution_count": 8,
     "metadata": {},
     "output_type": "execute_result"
    }
   ],
   "source": [
    "df = pd.merge(deliveries,matches,left_on='match_id', right_on='id')\n",
    "df.head()"
   ]
  },
  {
   "cell_type": "code",
   "execution_count": 9,
   "id": "0ee20a19",
   "metadata": {},
   "outputs": [
    {
     "data": {
      "text/plain": [
       "array([2017, 2008, 2009, 2010, 2011, 2012, 2013, 2014, 2015, 2016, 2018,\n",
       "       2019], dtype=int64)"
      ]
     },
     "execution_count": 9,
     "metadata": {},
     "output_type": "execute_result"
    }
   ],
   "source": [
    "df['season'].unique()"
   ]
  },
  {
   "cell_type": "code",
   "execution_count": 10,
   "id": "95f2d5fb",
   "metadata": {},
   "outputs": [
    {
     "data": {
      "text/plain": [
       "2013    18177\n",
       "2012    17767\n",
       "2011    17013\n",
       "2010    14498\n",
       "2019    14328\n",
       "2014    14300\n",
       "2018    14290\n",
       "2016    14096\n",
       "2017    13862\n",
       "2015    13652\n",
       "2009    13606\n",
       "2008    13489\n",
       "Name: season, dtype: int64"
      ]
     },
     "execution_count": 10,
     "metadata": {},
     "output_type": "execute_result"
    }
   ],
   "source": [
    "df['season'].value_counts()"
   ]
  },
  {
   "cell_type": "code",
   "execution_count": 11,
   "id": "baf7bf4e",
   "metadata": {},
   "outputs": [
    {
     "name": "stdout",
     "output_type": "stream",
     "text": [
      "<class 'pandas.core.frame.DataFrame'>\n",
      "RangeIndex: 756 entries, 0 to 755\n",
      "Data columns (total 18 columns):\n",
      " #   Column           Non-Null Count  Dtype         \n",
      "---  ------           --------------  -----         \n",
      " 0   id               756 non-null    int64         \n",
      " 1   season           756 non-null    int64         \n",
      " 2   city             749 non-null    object        \n",
      " 3   date             756 non-null    datetime64[ns]\n",
      " 4   team1            756 non-null    object        \n",
      " 5   team2            756 non-null    object        \n",
      " 6   toss_winner      756 non-null    object        \n",
      " 7   toss_decision    756 non-null    object        \n",
      " 8   result           756 non-null    object        \n",
      " 9   dl_applied       756 non-null    int64         \n",
      " 10  winner           752 non-null    object        \n",
      " 11  win_by_runs      756 non-null    int64         \n",
      " 12  win_by_wickets   756 non-null    int64         \n",
      " 13  player_of_match  752 non-null    object        \n",
      " 14  venue            756 non-null    object        \n",
      " 15  umpire1          754 non-null    object        \n",
      " 16  umpire2          754 non-null    object        \n",
      " 17  umpire3          119 non-null    object        \n",
      "dtypes: datetime64[ns](1), int64(5), object(12)\n",
      "memory usage: 106.4+ KB\n"
     ]
    }
   ],
   "source": [
    "matches.info()"
   ]
  },
  {
   "cell_type": "code",
   "execution_count": 12,
   "id": "7c8e2730",
   "metadata": {},
   "outputs": [
    {
     "name": "stdout",
     "output_type": "stream",
     "text": [
      "<class 'pandas.core.frame.DataFrame'>\n",
      "RangeIndex: 179078 entries, 0 to 179077\n",
      "Data columns (total 21 columns):\n",
      " #   Column            Non-Null Count   Dtype \n",
      "---  ------            --------------   ----- \n",
      " 0   match_id          179078 non-null  int64 \n",
      " 1   inning            179078 non-null  int64 \n",
      " 2   batting_team      179078 non-null  object\n",
      " 3   bowling_team      179078 non-null  object\n",
      " 4   over              179078 non-null  int64 \n",
      " 5   ball              179078 non-null  int64 \n",
      " 6   batsman           179078 non-null  object\n",
      " 7   non_striker       179078 non-null  object\n",
      " 8   bowler            179078 non-null  object\n",
      " 9   is_super_over     179078 non-null  int64 \n",
      " 10  wide_runs         179078 non-null  int64 \n",
      " 11  bye_runs          179078 non-null  int64 \n",
      " 12  legbye_runs       179078 non-null  int64 \n",
      " 13  noball_runs       179078 non-null  int64 \n",
      " 14  penalty_runs      179078 non-null  int64 \n",
      " 15  batsman_runs      179078 non-null  int64 \n",
      " 16  extra_runs        179078 non-null  int64 \n",
      " 17  total_runs        179078 non-null  int64 \n",
      " 18  player_dismissed  8834 non-null    object\n",
      " 19  dismissal_kind    8834 non-null    object\n",
      " 20  fielder           6448 non-null    object\n",
      "dtypes: int64(13), object(8)\n",
      "memory usage: 28.7+ MB\n"
     ]
    }
   ],
   "source": [
    "deliveries.info()"
   ]
  },
  {
   "cell_type": "code",
   "execution_count": 13,
   "id": "63051b1a",
   "metadata": {},
   "outputs": [
    {
     "data": {
      "text/plain": [
       "(756, 18)"
      ]
     },
     "execution_count": 13,
     "metadata": {},
     "output_type": "execute_result"
    }
   ],
   "source": [
    "matches.shape"
   ]
  },
  {
   "cell_type": "code",
   "execution_count": 14,
   "id": "4a2c99a1",
   "metadata": {},
   "outputs": [
    {
     "data": {
      "text/plain": [
       "(179078, 21)"
      ]
     },
     "execution_count": 14,
     "metadata": {},
     "output_type": "execute_result"
    }
   ],
   "source": [
    "deliveries.shape"
   ]
  },
  {
   "cell_type": "code",
   "execution_count": 15,
   "id": "055f3126",
   "metadata": {},
   "outputs": [
    {
     "data": {
      "text/plain": [
       "(179078, 39)"
      ]
     },
     "execution_count": 15,
     "metadata": {},
     "output_type": "execute_result"
    }
   ],
   "source": [
    "df.shape"
   ]
  },
  {
   "cell_type": "code",
   "execution_count": 16,
   "id": "34cd809d",
   "metadata": {},
   "outputs": [
    {
     "data": {
      "text/plain": [
       "0         Hyderabad\n",
       "1         Hyderabad\n",
       "2         Hyderabad\n",
       "3         Hyderabad\n",
       "4         Hyderabad\n",
       "            ...    \n",
       "179073    Hyderabad\n",
       "179074    Hyderabad\n",
       "179075    Hyderabad\n",
       "179076    Hyderabad\n",
       "179077    Hyderabad\n",
       "Name: city, Length: 179078, dtype: object"
      ]
     },
     "execution_count": 16,
     "metadata": {},
     "output_type": "execute_result"
    }
   ],
   "source": [
    "df['city']"
   ]
  },
  {
   "cell_type": "code",
   "execution_count": 17,
   "id": "a4325429",
   "metadata": {},
   "outputs": [
    {
     "data": {
      "text/html": [
       "<div>\n",
       "<style scoped>\n",
       "    .dataframe tbody tr th:only-of-type {\n",
       "        vertical-align: middle;\n",
       "    }\n",
       "\n",
       "    .dataframe tbody tr th {\n",
       "        vertical-align: top;\n",
       "    }\n",
       "\n",
       "    .dataframe thead th {\n",
       "        text-align: right;\n",
       "    }\n",
       "</style>\n",
       "<table border=\"1\" class=\"dataframe\">\n",
       "  <thead>\n",
       "    <tr style=\"text-align: right;\">\n",
       "      <th></th>\n",
       "      <th>match_id</th>\n",
       "      <th>inning</th>\n",
       "      <th>batting_team</th>\n",
       "      <th>bowling_team</th>\n",
       "      <th>over</th>\n",
       "      <th>ball</th>\n",
       "      <th>batsman</th>\n",
       "      <th>non_striker</th>\n",
       "      <th>bowler</th>\n",
       "      <th>is_super_over</th>\n",
       "      <th>...</th>\n",
       "      <th>result</th>\n",
       "      <th>dl_applied</th>\n",
       "      <th>winner</th>\n",
       "      <th>win_by_runs</th>\n",
       "      <th>win_by_wickets</th>\n",
       "      <th>player_of_match</th>\n",
       "      <th>venue</th>\n",
       "      <th>umpire1</th>\n",
       "      <th>umpire2</th>\n",
       "      <th>umpire3</th>\n",
       "    </tr>\n",
       "  </thead>\n",
       "  <tbody>\n",
       "    <tr>\n",
       "      <th>0</th>\n",
       "      <td>1</td>\n",
       "      <td>1</td>\n",
       "      <td>Sunrisers Hyderabad</td>\n",
       "      <td>Royal Challengers Bangalore</td>\n",
       "      <td>1</td>\n",
       "      <td>1</td>\n",
       "      <td>DA Warner</td>\n",
       "      <td>S Dhawan</td>\n",
       "      <td>TS Mills</td>\n",
       "      <td>0</td>\n",
       "      <td>...</td>\n",
       "      <td>normal</td>\n",
       "      <td>0</td>\n",
       "      <td>Sunrisers Hyderabad</td>\n",
       "      <td>35</td>\n",
       "      <td>0</td>\n",
       "      <td>Yuvraj Singh</td>\n",
       "      <td>Rajiv Gandhi International Stadium, Uppal</td>\n",
       "      <td>AY Dandekar</td>\n",
       "      <td>NJ Llong</td>\n",
       "      <td>NaN</td>\n",
       "    </tr>\n",
       "    <tr>\n",
       "      <th>1</th>\n",
       "      <td>1</td>\n",
       "      <td>1</td>\n",
       "      <td>Sunrisers Hyderabad</td>\n",
       "      <td>Royal Challengers Bangalore</td>\n",
       "      <td>1</td>\n",
       "      <td>2</td>\n",
       "      <td>DA Warner</td>\n",
       "      <td>S Dhawan</td>\n",
       "      <td>TS Mills</td>\n",
       "      <td>0</td>\n",
       "      <td>...</td>\n",
       "      <td>normal</td>\n",
       "      <td>0</td>\n",
       "      <td>Sunrisers Hyderabad</td>\n",
       "      <td>35</td>\n",
       "      <td>0</td>\n",
       "      <td>Yuvraj Singh</td>\n",
       "      <td>Rajiv Gandhi International Stadium, Uppal</td>\n",
       "      <td>AY Dandekar</td>\n",
       "      <td>NJ Llong</td>\n",
       "      <td>NaN</td>\n",
       "    </tr>\n",
       "    <tr>\n",
       "      <th>2</th>\n",
       "      <td>1</td>\n",
       "      <td>1</td>\n",
       "      <td>Sunrisers Hyderabad</td>\n",
       "      <td>Royal Challengers Bangalore</td>\n",
       "      <td>1</td>\n",
       "      <td>3</td>\n",
       "      <td>DA Warner</td>\n",
       "      <td>S Dhawan</td>\n",
       "      <td>TS Mills</td>\n",
       "      <td>0</td>\n",
       "      <td>...</td>\n",
       "      <td>normal</td>\n",
       "      <td>0</td>\n",
       "      <td>Sunrisers Hyderabad</td>\n",
       "      <td>35</td>\n",
       "      <td>0</td>\n",
       "      <td>Yuvraj Singh</td>\n",
       "      <td>Rajiv Gandhi International Stadium, Uppal</td>\n",
       "      <td>AY Dandekar</td>\n",
       "      <td>NJ Llong</td>\n",
       "      <td>NaN</td>\n",
       "    </tr>\n",
       "    <tr>\n",
       "      <th>3</th>\n",
       "      <td>1</td>\n",
       "      <td>1</td>\n",
       "      <td>Sunrisers Hyderabad</td>\n",
       "      <td>Royal Challengers Bangalore</td>\n",
       "      <td>1</td>\n",
       "      <td>4</td>\n",
       "      <td>DA Warner</td>\n",
       "      <td>S Dhawan</td>\n",
       "      <td>TS Mills</td>\n",
       "      <td>0</td>\n",
       "      <td>...</td>\n",
       "      <td>normal</td>\n",
       "      <td>0</td>\n",
       "      <td>Sunrisers Hyderabad</td>\n",
       "      <td>35</td>\n",
       "      <td>0</td>\n",
       "      <td>Yuvraj Singh</td>\n",
       "      <td>Rajiv Gandhi International Stadium, Uppal</td>\n",
       "      <td>AY Dandekar</td>\n",
       "      <td>NJ Llong</td>\n",
       "      <td>NaN</td>\n",
       "    </tr>\n",
       "    <tr>\n",
       "      <th>4</th>\n",
       "      <td>1</td>\n",
       "      <td>1</td>\n",
       "      <td>Sunrisers Hyderabad</td>\n",
       "      <td>Royal Challengers Bangalore</td>\n",
       "      <td>1</td>\n",
       "      <td>5</td>\n",
       "      <td>DA Warner</td>\n",
       "      <td>S Dhawan</td>\n",
       "      <td>TS Mills</td>\n",
       "      <td>0</td>\n",
       "      <td>...</td>\n",
       "      <td>normal</td>\n",
       "      <td>0</td>\n",
       "      <td>Sunrisers Hyderabad</td>\n",
       "      <td>35</td>\n",
       "      <td>0</td>\n",
       "      <td>Yuvraj Singh</td>\n",
       "      <td>Rajiv Gandhi International Stadium, Uppal</td>\n",
       "      <td>AY Dandekar</td>\n",
       "      <td>NJ Llong</td>\n",
       "      <td>NaN</td>\n",
       "    </tr>\n",
       "    <tr>\n",
       "      <th>...</th>\n",
       "      <td>...</td>\n",
       "      <td>...</td>\n",
       "      <td>...</td>\n",
       "      <td>...</td>\n",
       "      <td>...</td>\n",
       "      <td>...</td>\n",
       "      <td>...</td>\n",
       "      <td>...</td>\n",
       "      <td>...</td>\n",
       "      <td>...</td>\n",
       "      <td>...</td>\n",
       "      <td>...</td>\n",
       "      <td>...</td>\n",
       "      <td>...</td>\n",
       "      <td>...</td>\n",
       "      <td>...</td>\n",
       "      <td>...</td>\n",
       "      <td>...</td>\n",
       "      <td>...</td>\n",
       "      <td>...</td>\n",
       "      <td>...</td>\n",
       "    </tr>\n",
       "    <tr>\n",
       "      <th>152050</th>\n",
       "      <td>7901</td>\n",
       "      <td>1</td>\n",
       "      <td>Kings XI Punjab</td>\n",
       "      <td>Royal Challengers Bangalore</td>\n",
       "      <td>1</td>\n",
       "      <td>1</td>\n",
       "      <td>KL Rahul</td>\n",
       "      <td>MA Agarwal</td>\n",
       "      <td>CR Woakes</td>\n",
       "      <td>0</td>\n",
       "      <td>...</td>\n",
       "      <td>normal</td>\n",
       "      <td>0</td>\n",
       "      <td>Royal Challengers Bangalore</td>\n",
       "      <td>0</td>\n",
       "      <td>4</td>\n",
       "      <td>UT Yadav</td>\n",
       "      <td>M Chinnaswamy Stadium</td>\n",
       "      <td>S Ravi</td>\n",
       "      <td>A.D Deshmukh</td>\n",
       "      <td>C Shamshuddin</td>\n",
       "    </tr>\n",
       "    <tr>\n",
       "      <th>152051</th>\n",
       "      <td>7901</td>\n",
       "      <td>1</td>\n",
       "      <td>Kings XI Punjab</td>\n",
       "      <td>Royal Challengers Bangalore</td>\n",
       "      <td>1</td>\n",
       "      <td>2</td>\n",
       "      <td>KL Rahul</td>\n",
       "      <td>MA Agarwal</td>\n",
       "      <td>CR Woakes</td>\n",
       "      <td>0</td>\n",
       "      <td>...</td>\n",
       "      <td>normal</td>\n",
       "      <td>0</td>\n",
       "      <td>Royal Challengers Bangalore</td>\n",
       "      <td>0</td>\n",
       "      <td>4</td>\n",
       "      <td>UT Yadav</td>\n",
       "      <td>M Chinnaswamy Stadium</td>\n",
       "      <td>S Ravi</td>\n",
       "      <td>A.D Deshmukh</td>\n",
       "      <td>C Shamshuddin</td>\n",
       "    </tr>\n",
       "    <tr>\n",
       "      <th>152052</th>\n",
       "      <td>7901</td>\n",
       "      <td>1</td>\n",
       "      <td>Kings XI Punjab</td>\n",
       "      <td>Royal Challengers Bangalore</td>\n",
       "      <td>1</td>\n",
       "      <td>3</td>\n",
       "      <td>KL Rahul</td>\n",
       "      <td>MA Agarwal</td>\n",
       "      <td>CR Woakes</td>\n",
       "      <td>0</td>\n",
       "      <td>...</td>\n",
       "      <td>normal</td>\n",
       "      <td>0</td>\n",
       "      <td>Royal Challengers Bangalore</td>\n",
       "      <td>0</td>\n",
       "      <td>4</td>\n",
       "      <td>UT Yadav</td>\n",
       "      <td>M Chinnaswamy Stadium</td>\n",
       "      <td>S Ravi</td>\n",
       "      <td>A.D Deshmukh</td>\n",
       "      <td>C Shamshuddin</td>\n",
       "    </tr>\n",
       "    <tr>\n",
       "      <th>152053</th>\n",
       "      <td>7901</td>\n",
       "      <td>1</td>\n",
       "      <td>Kings XI Punjab</td>\n",
       "      <td>Royal Challengers Bangalore</td>\n",
       "      <td>1</td>\n",
       "      <td>4</td>\n",
       "      <td>KL Rahul</td>\n",
       "      <td>MA Agarwal</td>\n",
       "      <td>CR Woakes</td>\n",
       "      <td>0</td>\n",
       "      <td>...</td>\n",
       "      <td>normal</td>\n",
       "      <td>0</td>\n",
       "      <td>Royal Challengers Bangalore</td>\n",
       "      <td>0</td>\n",
       "      <td>4</td>\n",
       "      <td>UT Yadav</td>\n",
       "      <td>M Chinnaswamy Stadium</td>\n",
       "      <td>S Ravi</td>\n",
       "      <td>A.D Deshmukh</td>\n",
       "      <td>C Shamshuddin</td>\n",
       "    </tr>\n",
       "    <tr>\n",
       "      <th>152054</th>\n",
       "      <td>7901</td>\n",
       "      <td>1</td>\n",
       "      <td>Kings XI Punjab</td>\n",
       "      <td>Royal Challengers Bangalore</td>\n",
       "      <td>1</td>\n",
       "      <td>5</td>\n",
       "      <td>KL Rahul</td>\n",
       "      <td>MA Agarwal</td>\n",
       "      <td>CR Woakes</td>\n",
       "      <td>0</td>\n",
       "      <td>...</td>\n",
       "      <td>normal</td>\n",
       "      <td>0</td>\n",
       "      <td>Royal Challengers Bangalore</td>\n",
       "      <td>0</td>\n",
       "      <td>4</td>\n",
       "      <td>UT Yadav</td>\n",
       "      <td>M Chinnaswamy Stadium</td>\n",
       "      <td>S Ravi</td>\n",
       "      <td>A.D Deshmukh</td>\n",
       "      <td>C Shamshuddin</td>\n",
       "    </tr>\n",
       "  </tbody>\n",
       "</table>\n",
       "<p>160 rows × 39 columns</p>\n",
       "</div>"
      ],
      "text/plain": [
       "        match_id  inning         batting_team                 bowling_team  \\\n",
       "0              1       1  Sunrisers Hyderabad  Royal Challengers Bangalore   \n",
       "1              1       1  Sunrisers Hyderabad  Royal Challengers Bangalore   \n",
       "2              1       1  Sunrisers Hyderabad  Royal Challengers Bangalore   \n",
       "3              1       1  Sunrisers Hyderabad  Royal Challengers Bangalore   \n",
       "4              1       1  Sunrisers Hyderabad  Royal Challengers Bangalore   \n",
       "...          ...     ...                  ...                          ...   \n",
       "152050      7901       1      Kings XI Punjab  Royal Challengers Bangalore   \n",
       "152051      7901       1      Kings XI Punjab  Royal Challengers Bangalore   \n",
       "152052      7901       1      Kings XI Punjab  Royal Challengers Bangalore   \n",
       "152053      7901       1      Kings XI Punjab  Royal Challengers Bangalore   \n",
       "152054      7901       1      Kings XI Punjab  Royal Challengers Bangalore   \n",
       "\n",
       "        over  ball    batsman non_striker     bowler  is_super_over  ...  \\\n",
       "0          1     1  DA Warner    S Dhawan   TS Mills              0  ...   \n",
       "1          1     2  DA Warner    S Dhawan   TS Mills              0  ...   \n",
       "2          1     3  DA Warner    S Dhawan   TS Mills              0  ...   \n",
       "3          1     4  DA Warner    S Dhawan   TS Mills              0  ...   \n",
       "4          1     5  DA Warner    S Dhawan   TS Mills              0  ...   \n",
       "...      ...   ...        ...         ...        ...            ...  ...   \n",
       "152050     1     1   KL Rahul  MA Agarwal  CR Woakes              0  ...   \n",
       "152051     1     2   KL Rahul  MA Agarwal  CR Woakes              0  ...   \n",
       "152052     1     3   KL Rahul  MA Agarwal  CR Woakes              0  ...   \n",
       "152053     1     4   KL Rahul  MA Agarwal  CR Woakes              0  ...   \n",
       "152054     1     5   KL Rahul  MA Agarwal  CR Woakes              0  ...   \n",
       "\n",
       "        result  dl_applied                       winner  win_by_runs  \\\n",
       "0       normal           0          Sunrisers Hyderabad           35   \n",
       "1       normal           0          Sunrisers Hyderabad           35   \n",
       "2       normal           0          Sunrisers Hyderabad           35   \n",
       "3       normal           0          Sunrisers Hyderabad           35   \n",
       "4       normal           0          Sunrisers Hyderabad           35   \n",
       "...        ...         ...                          ...          ...   \n",
       "152050  normal           0  Royal Challengers Bangalore            0   \n",
       "152051  normal           0  Royal Challengers Bangalore            0   \n",
       "152052  normal           0  Royal Challengers Bangalore            0   \n",
       "152053  normal           0  Royal Challengers Bangalore            0   \n",
       "152054  normal           0  Royal Challengers Bangalore            0   \n",
       "\n",
       "        win_by_wickets  player_of_match  \\\n",
       "0                    0     Yuvraj Singh   \n",
       "1                    0     Yuvraj Singh   \n",
       "2                    0     Yuvraj Singh   \n",
       "3                    0     Yuvraj Singh   \n",
       "4                    0     Yuvraj Singh   \n",
       "...                ...              ...   \n",
       "152050               4         UT Yadav   \n",
       "152051               4         UT Yadav   \n",
       "152052               4         UT Yadav   \n",
       "152053               4         UT Yadav   \n",
       "152054               4         UT Yadav   \n",
       "\n",
       "                                            venue      umpire1       umpire2  \\\n",
       "0       Rajiv Gandhi International Stadium, Uppal  AY Dandekar      NJ Llong   \n",
       "1       Rajiv Gandhi International Stadium, Uppal  AY Dandekar      NJ Llong   \n",
       "2       Rajiv Gandhi International Stadium, Uppal  AY Dandekar      NJ Llong   \n",
       "3       Rajiv Gandhi International Stadium, Uppal  AY Dandekar      NJ Llong   \n",
       "4       Rajiv Gandhi International Stadium, Uppal  AY Dandekar      NJ Llong   \n",
       "...                                           ...          ...           ...   \n",
       "152050                      M Chinnaswamy Stadium       S Ravi  A.D Deshmukh   \n",
       "152051                      M Chinnaswamy Stadium       S Ravi  A.D Deshmukh   \n",
       "152052                      M Chinnaswamy Stadium       S Ravi  A.D Deshmukh   \n",
       "152053                      M Chinnaswamy Stadium       S Ravi  A.D Deshmukh   \n",
       "152054                      M Chinnaswamy Stadium       S Ravi  A.D Deshmukh   \n",
       "\n",
       "              umpire3  \n",
       "0                 NaN  \n",
       "1                 NaN  \n",
       "2                 NaN  \n",
       "3                 NaN  \n",
       "4                 NaN  \n",
       "...               ...  \n",
       "152050  C Shamshuddin  \n",
       "152051  C Shamshuddin  \n",
       "152052  C Shamshuddin  \n",
       "152053  C Shamshuddin  \n",
       "152054  C Shamshuddin  \n",
       "\n",
       "[160 rows x 39 columns]"
      ]
     },
     "execution_count": 17,
     "metadata": {},
     "output_type": "execute_result"
    }
   ],
   "source": [
    "grouped_df = df.groupby('city')\n",
    "grouped_df.head()"
   ]
  },
  {
   "cell_type": "code",
   "execution_count": 18,
   "id": "bc095db0",
   "metadata": {},
   "outputs": [
    {
     "data": {
      "text/plain": [
       "'Mumbai'"
      ]
     },
     "execution_count": 18,
     "metadata": {},
     "output_type": "execute_result"
    }
   ],
   "source": [
    "city_seasons_count = df['city'].value_counts().idxmax()\n",
    "city_seasons_count"
   ]
  },
  {
   "cell_type": "code",
   "execution_count": 19,
   "id": "31b2146e",
   "metadata": {},
   "outputs": [
    {
     "data": {
      "text/plain": [
       "2013"
      ]
     },
     "execution_count": 19,
     "metadata": {},
     "output_type": "execute_result"
    }
   ],
   "source": [
    "df['year']=df['date'].dt.year\n",
    "most_year = df['year'].value_counts().idxmax()\n",
    "most_year"
   ]
  },
  {
   "cell_type": "code",
   "execution_count": 103,
   "id": "0add583e",
   "metadata": {},
   "outputs": [
    {
     "data": {
      "text/plain": [
       "1424      2017\n",
       "1425      2017\n",
       "1426      2017\n",
       "1427      2017\n",
       "1428      2017\n",
       "          ... \n",
       "179073    2019\n",
       "179074    2019\n",
       "179075    2019\n",
       "179076    2019\n",
       "179077    2019\n",
       "Name: season, Length: 26305, dtype: int64"
      ]
     },
     "execution_count": 103,
     "metadata": {},
     "output_type": "execute_result"
    }
   ],
   "source": [
    "df[df['winner']== 'Mumbai Indians']['season']"
   ]
  },
  {
   "cell_type": "code",
   "execution_count": 108,
   "id": "d025f12d",
   "metadata": {},
   "outputs": [
    {
     "data": {
      "text/plain": [
       "<bound method Series.count of 56181    Mumbai Indians\n",
       "56182    Mumbai Indians\n",
       "56183    Mumbai Indians\n",
       "56184    Mumbai Indians\n",
       "56185    Mumbai Indians\n",
       "              ...      \n",
       "71968    Mumbai Indians\n",
       "71969    Mumbai Indians\n",
       "71970    Mumbai Indians\n",
       "71971    Mumbai Indians\n",
       "71972    Mumbai Indians\n",
       "Name: winner, Length: 2416, dtype: object>"
      ]
     },
     "execution_count": 108,
     "metadata": {},
     "output_type": "execute_result"
    }
   ],
   "source": [
    "# Maximum wins by Mumbai Indians in 2011 are\n",
    "\n",
    "max_win = df[(df['winner']== 'Mumbai Indians') & (df['year']==2011)]\n",
    "maxi = max_win['winner'].count\n",
    "maxi"
   ]
  },
  {
   "cell_type": "code",
   "execution_count": 93,
   "id": "3fa6a9b7",
   "metadata": {},
   "outputs": [
    {
     "ename": "KeyError",
     "evalue": "'winner'",
     "output_type": "error",
     "traceback": [
      "\u001b[1;31m---------------------------------------------------------------------------\u001b[0m",
      "\u001b[1;31mKeyError\u001b[0m                                  Traceback (most recent call last)",
      "File \u001b[1;32m~\\anaconda2\\lib\\site-packages\\pandas\\core\\indexes\\base.py:3802\u001b[0m, in \u001b[0;36mIndex.get_loc\u001b[1;34m(self, key, method, tolerance)\u001b[0m\n\u001b[0;32m   3801\u001b[0m \u001b[38;5;28;01mtry\u001b[39;00m:\n\u001b[1;32m-> 3802\u001b[0m     \u001b[38;5;28;01mreturn\u001b[39;00m \u001b[38;5;28;43mself\u001b[39;49m\u001b[38;5;241;43m.\u001b[39;49m\u001b[43m_engine\u001b[49m\u001b[38;5;241;43m.\u001b[39;49m\u001b[43mget_loc\u001b[49m\u001b[43m(\u001b[49m\u001b[43mcasted_key\u001b[49m\u001b[43m)\u001b[49m\n\u001b[0;32m   3803\u001b[0m \u001b[38;5;28;01mexcept\u001b[39;00m \u001b[38;5;167;01mKeyError\u001b[39;00m \u001b[38;5;28;01mas\u001b[39;00m err:\n",
      "File \u001b[1;32m~\\anaconda2\\lib\\site-packages\\pandas\\_libs\\index.pyx:138\u001b[0m, in \u001b[0;36mpandas._libs.index.IndexEngine.get_loc\u001b[1;34m()\u001b[0m\n",
      "File \u001b[1;32m~\\anaconda2\\lib\\site-packages\\pandas\\_libs\\index.pyx:146\u001b[0m, in \u001b[0;36mpandas._libs.index.IndexEngine.get_loc\u001b[1;34m()\u001b[0m\n",
      "File \u001b[1;32mpandas\\_libs\\index_class_helper.pxi:49\u001b[0m, in \u001b[0;36mpandas._libs.index.Int64Engine._check_type\u001b[1;34m()\u001b[0m\n",
      "\u001b[1;31mKeyError\u001b[0m: 'winner'",
      "\nThe above exception was the direct cause of the following exception:\n",
      "\u001b[1;31mKeyError\u001b[0m                                  Traceback (most recent call last)",
      "Cell \u001b[1;32mIn[93], line 1\u001b[0m\n\u001b[1;32m----> 1\u001b[0m \u001b[43mdf\u001b[49m\u001b[43m[\u001b[49m\u001b[38;5;124;43m'\u001b[39;49m\u001b[38;5;124;43myear\u001b[39;49m\u001b[38;5;124;43m'\u001b[39;49m\u001b[43m]\u001b[49m\u001b[43m[\u001b[49m\u001b[38;5;124;43m'\u001b[39;49m\u001b[38;5;124;43mwinner\u001b[39;49m\u001b[38;5;124;43m'\u001b[39;49m\u001b[43m]\u001b[49m\u001b[38;5;241m.\u001b[39mvalue_counts()\n",
      "File \u001b[1;32m~\\anaconda2\\lib\\site-packages\\pandas\\core\\series.py:981\u001b[0m, in \u001b[0;36mSeries.__getitem__\u001b[1;34m(self, key)\u001b[0m\n\u001b[0;32m    978\u001b[0m     \u001b[38;5;28;01mreturn\u001b[39;00m \u001b[38;5;28mself\u001b[39m\u001b[38;5;241m.\u001b[39m_values[key]\n\u001b[0;32m    980\u001b[0m \u001b[38;5;28;01melif\u001b[39;00m key_is_scalar:\n\u001b[1;32m--> 981\u001b[0m     \u001b[38;5;28;01mreturn\u001b[39;00m \u001b[38;5;28;43mself\u001b[39;49m\u001b[38;5;241;43m.\u001b[39;49m\u001b[43m_get_value\u001b[49m\u001b[43m(\u001b[49m\u001b[43mkey\u001b[49m\u001b[43m)\u001b[49m\n\u001b[0;32m    983\u001b[0m \u001b[38;5;28;01mif\u001b[39;00m is_hashable(key):\n\u001b[0;32m    984\u001b[0m     \u001b[38;5;66;03m# Otherwise index.get_value will raise InvalidIndexError\u001b[39;00m\n\u001b[0;32m    985\u001b[0m     \u001b[38;5;28;01mtry\u001b[39;00m:\n\u001b[0;32m    986\u001b[0m         \u001b[38;5;66;03m# For labels that don't resolve as scalars like tuples and frozensets\u001b[39;00m\n",
      "File \u001b[1;32m~\\anaconda2\\lib\\site-packages\\pandas\\core\\series.py:1089\u001b[0m, in \u001b[0;36mSeries._get_value\u001b[1;34m(self, label, takeable)\u001b[0m\n\u001b[0;32m   1086\u001b[0m     \u001b[38;5;28;01mreturn\u001b[39;00m \u001b[38;5;28mself\u001b[39m\u001b[38;5;241m.\u001b[39m_values[label]\n\u001b[0;32m   1088\u001b[0m \u001b[38;5;66;03m# Similar to Index.get_value, but we do not fall back to positional\u001b[39;00m\n\u001b[1;32m-> 1089\u001b[0m loc \u001b[38;5;241m=\u001b[39m \u001b[38;5;28;43mself\u001b[39;49m\u001b[38;5;241;43m.\u001b[39;49m\u001b[43mindex\u001b[49m\u001b[38;5;241;43m.\u001b[39;49m\u001b[43mget_loc\u001b[49m\u001b[43m(\u001b[49m\u001b[43mlabel\u001b[49m\u001b[43m)\u001b[49m\n\u001b[0;32m   1090\u001b[0m \u001b[38;5;28;01mreturn\u001b[39;00m \u001b[38;5;28mself\u001b[39m\u001b[38;5;241m.\u001b[39mindex\u001b[38;5;241m.\u001b[39m_get_values_for_loc(\u001b[38;5;28mself\u001b[39m, loc, label)\n",
      "File \u001b[1;32m~\\anaconda2\\lib\\site-packages\\pandas\\core\\indexes\\base.py:3804\u001b[0m, in \u001b[0;36mIndex.get_loc\u001b[1;34m(self, key, method, tolerance)\u001b[0m\n\u001b[0;32m   3802\u001b[0m     \u001b[38;5;28;01mreturn\u001b[39;00m \u001b[38;5;28mself\u001b[39m\u001b[38;5;241m.\u001b[39m_engine\u001b[38;5;241m.\u001b[39mget_loc(casted_key)\n\u001b[0;32m   3803\u001b[0m \u001b[38;5;28;01mexcept\u001b[39;00m \u001b[38;5;167;01mKeyError\u001b[39;00m \u001b[38;5;28;01mas\u001b[39;00m err:\n\u001b[1;32m-> 3804\u001b[0m     \u001b[38;5;28;01mraise\u001b[39;00m \u001b[38;5;167;01mKeyError\u001b[39;00m(key) \u001b[38;5;28;01mfrom\u001b[39;00m \u001b[38;5;21;01merr\u001b[39;00m\n\u001b[0;32m   3805\u001b[0m \u001b[38;5;28;01mexcept\u001b[39;00m \u001b[38;5;167;01mTypeError\u001b[39;00m:\n\u001b[0;32m   3806\u001b[0m     \u001b[38;5;66;03m# If we have a listlike key, _check_indexing_error will raise\u001b[39;00m\n\u001b[0;32m   3807\u001b[0m     \u001b[38;5;66;03m#  InvalidIndexError. Otherwise we fall through and re-raise\u001b[39;00m\n\u001b[0;32m   3808\u001b[0m     \u001b[38;5;66;03m#  the TypeError.\u001b[39;00m\n\u001b[0;32m   3809\u001b[0m     \u001b[38;5;28mself\u001b[39m\u001b[38;5;241m.\u001b[39m_check_indexing_error(key)\n",
      "\u001b[1;31mKeyError\u001b[0m: 'winner'"
     ]
    }
   ],
   "source": [
    "df['year']['winner'].value_counts()"
   ]
  },
  {
   "cell_type": "code",
   "execution_count": 21,
   "id": "07da4960",
   "metadata": {},
   "outputs": [
    {
     "data": {
      "text/plain": [
       "array(['field', 'bat'], dtype=object)"
      ]
     },
     "execution_count": 21,
     "metadata": {},
     "output_type": "execute_result"
    }
   ],
   "source": [
    "df['toss_decision'].unique()"
   ]
  },
  {
   "cell_type": "code",
   "execution_count": 22,
   "id": "cc61416b",
   "metadata": {},
   "outputs": [
    {
     "name": "stdout",
     "output_type": "stream",
     "text": [
      "field    109222\n",
      "bat       69856\n",
      "Name: toss_decision, dtype: int64\n",
      "179078\n"
     ]
    }
   ],
   "source": [
    "print(df['toss_decision'].value_counts())\n",
    "total = df['toss_decision'].count()\n",
    "print(total)"
   ]
  },
  {
   "cell_type": "code",
   "execution_count": 23,
   "id": "a85ebc43",
   "metadata": {},
   "outputs": [],
   "source": [
    "field = df[df['toss_decision']=='field']['toss_decision'].value_counts()\n",
    "bat = df[df['toss_decision'] == 'bat']['toss_decision'].value_counts()\n",
    "\n",
    "field_per = (field*100)/total\n",
    "bat_per = (bat*100)/total"
   ]
  },
  {
   "cell_type": "code",
   "execution_count": 24,
   "id": "4c627a77",
   "metadata": {},
   "outputs": [
    {
     "name": "stdout",
     "output_type": "stream",
     "text": [
      "field    60.99\n",
      "Name: toss_decision, dtype: float64\n",
      "bat    39.0087\n",
      "Name: toss_decision, dtype: float64\n"
     ]
    }
   ],
   "source": [
    "print(field_per.round(2))\n",
    "print(bat_per)"
   ]
  },
  {
   "cell_type": "code",
   "execution_count": 25,
   "id": "b4af83b6",
   "metadata": {},
   "outputs": [
    {
     "data": {
      "text/plain": [
       "2013    3173\n",
       "2017    2888\n",
       "2010    2704\n",
       "2019    2671\n",
       "2015    2457\n",
       "2012    2443\n",
       "2011    2416\n",
       "2014    1685\n",
       "2016    1684\n",
       "2008    1509\n",
       "2018    1470\n",
       "2009    1205\n",
       "Name: year, dtype: int64"
      ]
     },
     "execution_count": 25,
     "metadata": {},
     "output_type": "execute_result"
    }
   ],
   "source": [
    "max_win = df[df['winner']== 'Mumbai Indians']\n",
    "win = max_win['year'].value_counts()\n",
    "win"
   ]
  },
  {
   "cell_type": "code",
   "execution_count": 26,
   "id": "7e61277d",
   "metadata": {},
   "outputs": [
    {
     "data": {
      "text/plain": [
       "60110"
      ]
     },
     "execution_count": 26,
     "metadata": {},
     "output_type": "execute_result"
    }
   ],
   "source": [
    "field_winner = df[(df['toss_winner']==df['winner']) & (df['toss_decision'] == 'field')].shape[0]\n",
    "field_winner"
   ]
  },
  {
   "cell_type": "code",
   "execution_count": 27,
   "id": "66501296",
   "metadata": {},
   "outputs": [
    {
     "data": {
      "text/plain": [
       "32804"
      ]
     },
     "execution_count": 27,
     "metadata": {},
     "output_type": "execute_result"
    }
   ],
   "source": [
    "bat_winner = df[(df['toss_winner']==df['winner']) & (df['toss_decision'] == 'bat')].shape[0]\n",
    "bat_winner"
   ]
  },
  {
   "cell_type": "code",
   "execution_count": 28,
   "id": "fcdc0f17",
   "metadata": {},
   "outputs": [],
   "source": [
    "# 9. In which years where taking batting second have won more number of matches?"
   ]
  },
  {
   "cell_type": "code",
   "execution_count": 116,
   "id": "b4eec6ac",
   "metadata": {},
   "outputs": [
    {
     "data": {
      "text/plain": [
       "32804"
      ]
     },
     "execution_count": 116,
     "metadata": {},
     "output_type": "execute_result"
    }
   ],
   "source": [
    "bat_year = df[(df['toss_winner']==df['winner']) & (df['toss_decision'] != 'field')].shape[0]\n",
    "bat_year"
   ]
  },
  {
   "cell_type": "code",
   "execution_count": 30,
   "id": "1b90a061",
   "metadata": {},
   "outputs": [
    {
     "name": "stdout",
     "output_type": "stream",
     "text": [
      "Years where teams batting second won more matches: [2016]\n"
     ]
    }
   ],
   "source": [
    "batting_second_wins = df[df['winner'] == df['team2']]['year'].value_counts()\n",
    "\n",
    "# Display the years where teams batting second won more matches\n",
    "years_with_more_batting_second_wins = batting_second_wins[batting_second_wins == batting_second_wins.max()].index.tolist()\n",
    "print(\"Years where teams batting second won more matches:\", years_with_more_batting_second_wins)"
   ]
  },
  {
   "cell_type": "code",
   "execution_count": 31,
   "id": "2e40d50d",
   "metadata": {},
   "outputs": [
    {
     "data": {
      "text/plain": [
       "Index(['match_id', 'inning', 'batting_team', 'bowling_team', 'over', 'ball',\n",
       "       'batsman', 'non_striker', 'bowler', 'is_super_over', 'wide_runs',\n",
       "       'bye_runs', 'legbye_runs', 'noball_runs', 'penalty_runs',\n",
       "       'batsman_runs', 'extra_runs', 'total_runs', 'player_dismissed',\n",
       "       'dismissal_kind', 'fielder', 'id', 'season', 'city', 'date', 'team1',\n",
       "       'team2', 'toss_winner', 'toss_decision', 'result', 'dl_applied',\n",
       "       'winner', 'win_by_runs', 'win_by_wickets', 'player_of_match', 'venue',\n",
       "       'umpire1', 'umpire2', 'umpire3', 'year'],\n",
       "      dtype='object')"
      ]
     },
     "execution_count": 31,
     "metadata": {},
     "output_type": "execute_result"
    }
   ],
   "source": [
    "df.columns"
   ]
  },
  {
   "cell_type": "code",
   "execution_count": 32,
   "id": "d82bf5f6",
   "metadata": {},
   "outputs": [],
   "source": [
    "# To plot the most consistent batsmen among top 10 run getters, what plotting technique we use?\n",
    "# In 2019 which batsman scored highest number of runs by hitting 6's and 4's?\n",
    "\n",
    "player_runs = df.groupby(['year','batsman'])['batsman_runs'].agg(['count', 'sum']).reset_index()\n",
    "player_runs.columns = ['year','Player', 'Matches_Played', 'Total_Runs']\n",
    "\n",
    "# Sort the players by total runs in descending order\n",
    "player_runs = player_runs.sort_values(by='Total_Runs', ascending=False)"
   ]
  },
  {
   "cell_type": "code",
   "execution_count": 33,
   "id": "76ce8ad7",
   "metadata": {},
   "outputs": [
    {
     "data": {
      "text/html": [
       "<div>\n",
       "<style scoped>\n",
       "    .dataframe tbody tr th:only-of-type {\n",
       "        vertical-align: middle;\n",
       "    }\n",
       "\n",
       "    .dataframe tbody tr th {\n",
       "        vertical-align: top;\n",
       "    }\n",
       "\n",
       "    .dataframe thead th {\n",
       "        text-align: right;\n",
       "    }\n",
       "</style>\n",
       "<table border=\"1\" class=\"dataframe\">\n",
       "  <thead>\n",
       "    <tr style=\"text-align: right;\">\n",
       "      <th></th>\n",
       "      <th>year</th>\n",
       "      <th>Player</th>\n",
       "      <th>Matches_Played</th>\n",
       "      <th>Total_Runs</th>\n",
       "    </tr>\n",
       "  </thead>\n",
       "  <tbody>\n",
       "    <tr>\n",
       "      <th>1696</th>\n",
       "      <td>2019</td>\n",
       "      <td>DA Warner</td>\n",
       "      <td>496</td>\n",
       "      <td>727</td>\n",
       "    </tr>\n",
       "    <tr>\n",
       "      <th>1731</th>\n",
       "      <td>2019</td>\n",
       "      <td>KL Rahul</td>\n",
       "      <td>447</td>\n",
       "      <td>610</td>\n",
       "    </tr>\n",
       "    <tr>\n",
       "      <th>1765</th>\n",
       "      <td>2019</td>\n",
       "      <td>Q de Kock</td>\n",
       "      <td>406</td>\n",
       "      <td>555</td>\n",
       "    </tr>\n",
       "    <tr>\n",
       "      <th>1674</th>\n",
       "      <td>2019</td>\n",
       "      <td>AD Russell</td>\n",
       "      <td>274</td>\n",
       "      <td>545</td>\n",
       "    </tr>\n",
       "    <tr>\n",
       "      <th>1780</th>\n",
       "      <td>2019</td>\n",
       "      <td>S Dhawan</td>\n",
       "      <td>392</td>\n",
       "      <td>542</td>\n",
       "    </tr>\n",
       "    <tr>\n",
       "      <th>...</th>\n",
       "      <td>...</td>\n",
       "      <td>...</td>\n",
       "      <td>...</td>\n",
       "      <td>...</td>\n",
       "    </tr>\n",
       "    <tr>\n",
       "      <th>1747</th>\n",
       "      <td>2019</td>\n",
       "      <td>MM Sharma</td>\n",
       "      <td>2</td>\n",
       "      <td>0</td>\n",
       "    </tr>\n",
       "    <tr>\n",
       "      <th>1717</th>\n",
       "      <td>2019</td>\n",
       "      <td>J Denly</td>\n",
       "      <td>1</td>\n",
       "      <td>0</td>\n",
       "    </tr>\n",
       "    <tr>\n",
       "      <th>1722</th>\n",
       "      <td>2019</td>\n",
       "      <td>K Ahmed</td>\n",
       "      <td>1</td>\n",
       "      <td>0</td>\n",
       "    </tr>\n",
       "    <tr>\n",
       "      <th>1761</th>\n",
       "      <td>2019</td>\n",
       "      <td>P Raj</td>\n",
       "      <td>1</td>\n",
       "      <td>0</td>\n",
       "    </tr>\n",
       "    <tr>\n",
       "      <th>1758</th>\n",
       "      <td>2019</td>\n",
       "      <td>P Krishna</td>\n",
       "      <td>2</td>\n",
       "      <td>0</td>\n",
       "    </tr>\n",
       "  </tbody>\n",
       "</table>\n",
       "<p>144 rows × 4 columns</p>\n",
       "</div>"
      ],
      "text/plain": [
       "      year      Player  Matches_Played  Total_Runs\n",
       "1696  2019   DA Warner             496         727\n",
       "1731  2019    KL Rahul             447         610\n",
       "1765  2019   Q de Kock             406         555\n",
       "1674  2019  AD Russell             274         545\n",
       "1780  2019    S Dhawan             392         542\n",
       "...    ...         ...             ...         ...\n",
       "1747  2019   MM Sharma               2           0\n",
       "1717  2019     J Denly               1           0\n",
       "1722  2019     K Ahmed               1           0\n",
       "1761  2019       P Raj               1           0\n",
       "1758  2019   P Krishna               2           0\n",
       "\n",
       "[144 rows x 4 columns]"
      ]
     },
     "execution_count": 33,
     "metadata": {},
     "output_type": "execute_result"
    }
   ],
   "source": [
    "player_2019 = player_runs[player_runs['year']==2019]\n",
    "player_2019"
   ]
  },
  {
   "cell_type": "code",
   "execution_count": 34,
   "id": "7fcfa025",
   "metadata": {},
   "outputs": [
    {
     "data": {
      "text/plain": [
       "Index(['match_id', 'inning', 'batting_team', 'bowling_team', 'over', 'ball',\n",
       "       'batsman', 'non_striker', 'bowler', 'is_super_over', 'wide_runs',\n",
       "       'bye_runs', 'legbye_runs', 'noball_runs', 'penalty_runs',\n",
       "       'batsman_runs', 'extra_runs', 'total_runs', 'player_dismissed',\n",
       "       'dismissal_kind', 'fielder', 'id', 'season', 'city', 'date', 'team1',\n",
       "       'team2', 'toss_winner', 'toss_decision', 'result', 'dl_applied',\n",
       "       'winner', 'win_by_runs', 'win_by_wickets', 'player_of_match', 'venue',\n",
       "       'umpire1', 'umpire2', 'umpire3', 'year'],\n",
       "      dtype='object')"
      ]
     },
     "execution_count": 34,
     "metadata": {},
     "output_type": "execute_result"
    }
   ],
   "source": [
    "# Most number of wickets taken by a bowler is\n",
    "\n",
    "df.columns"
   ]
  },
  {
   "cell_type": "code",
   "execution_count": 35,
   "id": "de0e4411",
   "metadata": {},
   "outputs": [
    {
     "data": {
      "text/plain": [
       "array([nan, 'caught', 'bowled', 'run out', 'lbw', 'caught and bowled',\n",
       "       'stumped', 'retired hurt', 'hit wicket', 'obstructing the field'],\n",
       "      dtype=object)"
      ]
     },
     "execution_count": 35,
     "metadata": {},
     "output_type": "execute_result"
    }
   ],
   "source": [
    "df['dismissal_kind'].unique()"
   ]
  },
  {
   "cell_type": "code",
   "execution_count": 36,
   "id": "3303ff2e",
   "metadata": {},
   "outputs": [
    {
     "data": {
      "text/plain": [
       "array(['TS Mills', 'A Choudhary', 'YS Chahal', 'S Aravind', 'SR Watson',\n",
       "       'TM Head', 'STR Binny', 'A Nehra', 'B Kumar', 'BCJ Cutting',\n",
       "       'Rashid Khan', 'DJ Hooda', 'MC Henriques', 'Bipul Sharma',\n",
       "       'AB Dinda', 'DL Chahar', 'BA Stokes', 'Imran Tahir', 'A Zampa',\n",
       "       'R Bhatia', 'TG Southee', 'HH Pandya', 'MJ McClenaghan',\n",
       "       'JJ Bumrah', 'KH Pandya', 'KA Pollard', 'TA Boult', 'PP Chawla',\n",
       "       'SP Narine', 'CR Woakes', 'Kuldeep Yadav', 'YK Pathan', 'P Kumar',\n",
       "       'DS Kulkarni', 'MS Gony', 'S Kaushik', 'DR Smith', 'SB Jakati',\n",
       "       'Sandeep Sharma', 'MM Sharma', 'AR Patel', 'T Natarajan',\n",
       "       'MP Stoinis', 'Swapnil Singh', 'DT Christian', 'RD Chahar',\n",
       "       'Z Khan', 'CH Morris', 'PJ Cummins', 'S Nadeem', 'A Mishra',\n",
       "       'CR Brathwaite', 'B Stanlake', 'Iqbal Abdulla', 'P Negi',\n",
       "       'SK Raina', 'Tejas Baroka', 'Basil Thampi', 'SL Malinga',\n",
       "       'Harbhajan Singh', 'AS Rajpoot', 'VR Aaron', 'CJ Anderson',\n",
       "       'Mustafizur Rahman', 'UT Yadav', 'C de Grandhomme', 'I Sharma',\n",
       "       'GJ Maxwell', 'S Badree', 'AJ Tye', 'RA Jadeja', 'Ankit Sharma',\n",
       "       'LH Ferguson', 'SN Thakur', 'KC Cariappa', 'MM Patel', 'AF Milne',\n",
       "       'JD Unadkat', 'NM Coulter-Nile', 'Mohammed Shami', 'AD Mathews',\n",
       "       'BB Sran', 'S Kaul', 'Mohammad Nabi', 'J Yadav', 'Mohammed Siraj',\n",
       "       'Yuvraj Singh', 'JP Faulkner', 'Shakib Al Hasan', 'K Rabada',\n",
       "       'MG Johnson', 'Washington Sundar', 'SS Agarwal', 'NB Singh',\n",
       "       'KV Sharma', 'RA Tripathi', 'Ankit Soni', 'Anureet Singh',\n",
       "       'IK Pathan', 'PJ Sangwan', 'MN Samuels', 'MJ Henry', 'R Tewatia',\n",
       "       'R Vinay Kumar', 'Avesh Khan', 'HV Patel', 'CJ Jordan',\n",
       "       'AA Noffke', 'JH Kallis', 'SB Joshi', 'CL White', 'AB Agarkar',\n",
       "       'SC Ganguly', 'LR Shukla', 'B Lee', 'S Sreesanth', 'JR Hopes',\n",
       "       'K Goel', 'WA Mota', 'JDP Oram', 'M Muralitharan', 'P Amarnath',\n",
       "       'Joginder Sharma', 'GD McGrath', 'B Geeves', 'MF Maharoof',\n",
       "       'DL Vettori', 'SK Trivedi', 'SK Warne', 'D Salunkhe', 'B Akhil',\n",
       "       'SM Pollock', 'ST Jayasuriya', 'AM Nayar', 'M Kartik',\n",
       "       'Mohammad Hafeez', 'DJ Hussey', 'WPUJC Vaas', 'RP Singh',\n",
       "       'SB Styris', 'SB Bangar', 'A Symonds', 'PP Ojha', 'Pankaj Singh',\n",
       "       'Mohammad Asif', 'VY Mahesh', 'Shahid Afridi', 'DJ Bravo',\n",
       "       'VS Yeligati', 'MA Khote', 'D Kalyankrishna', 'VRV Singh',\n",
       "       'Sohail Tanvir', 'A Kumble', 'DNT Zoysa', 'SD Chitnis',\n",
       "       'Shoaib Malik', 'DW Steyn', 'JA Morkel', 'CRD Fernando', 'V Kohli',\n",
       "       'V Sehwag', 'Gagandeep Singh', 'Y Venugopal Rao', 'Umar Gul',\n",
       "       'M Ntini', 'DP Vijaykumar', 'DB Ravi Teja', 'LPC Silva',\n",
       "       'DJ Thornely', 'RR Raje', 'S Vidyut', 'L Balaji', 'CK Kapugedera',\n",
       "       'AD Mascarenhas', 'Shoaib Akhtar', 'RR Powar', 'PM Sarvesh Kumar',\n",
       "       'Abdur Razzak', 'TM Dilshan', 'RG Sharma', 'A Nel', 'BAW Mendis',\n",
       "       'T Thushara', 'A Flintoff', 'Kamran Khan', 'T Henderson',\n",
       "       'JD Ryder', 'DP Nannes', 'AM Salvi', 'YA Abdulla', 'VS Malik',\n",
       "       'FH Edwards', 'Harmeet Singh', 'CH Gayle', 'KP Pietersen',\n",
       "       'LRPL Taylor', 'RS Bopara', 'MK Tiwary', 'RR Bose', 'KP Appanna',\n",
       "       'Shoaib Ahmed', 'BJ Hodge', 'SR Tendulkar', 'RE van der Merwe',\n",
       "       'JP Duminy', 'S Tyagi', 'GR Napier', 'SM Harwood', 'AS Raut',\n",
       "       'D du Preez', 'RJ Harris', 'TL Suman', 'A Singh', 'M Morkel',\n",
       "       'LA Carseldine', 'A Mithun', 'C Nanda', 'SS Sarkar', 'AM Rahane',\n",
       "       'J Botha', 'Mashrafe Mortaza', 'AB McDonald', 'Y Nagar',\n",
       "       'CK Langeveldt', 'R Ashwin', 'RA Shaikh', 'Jaskaran Singh',\n",
       "       'SW Tait', 'A Uniyal', 'AA Jhunjhunwala', 'R McLaren',\n",
       "       'AG Murtaza', 'R Sathish', 'RS Gavaskar', 'JM Kemp', 'S Ladda',\n",
       "       'SE Bond', 'S Narwal', 'SJ Srivastava', 'AC Voges', 'R Sharma',\n",
       "       'J Theron', 'NLTC Perera', 'KAJ Roach', 'PD Collingwood',\n",
       "       'C Ganapathy', 'MB Parmar', 'SB Wagh', 'DE Bollinger', 'AP Dole',\n",
       "       'AN Ahmed', 'FY Fazal', 'MR Marsh', 'L Ablish', 'S Sriram',\n",
       "       'AJ Finch', 'ND Doshi', 'S Randiv', 'AL Menaria', 'AUK Pathan',\n",
       "       'RV Gomez', 'JEC Franklin', 'AC Thomas', 'WD Parnell', 'M Manhas',\n",
       "       'NJ Rimmington', 'RN ten Doeschate', 'BA Bhatt', 'JJ van der Wath',\n",
       "       'R Ninan', 'PC Valthaty', 'S Dhawan', 'J Syed Mohammad',\n",
       "       'NL McCullum', 'JE Taylor', 'KMDN Kulasekara', 'P Parameswaran',\n",
       "       'I Malhotra', 'B Chipli', 'AA Kazi', 'Anand Rajan', 'P Prasanth',\n",
       "       'Y Gnaneswara Rao', 'AA Chavan', 'S Rana', 'SS Mundhe', 'RW Price',\n",
       "       'M de Lange', 'KK Cooper', 'DAJ Bracewell', 'DJ Harris',\n",
       "       'TP Sudhindra', 'F du Plessis', 'GB Hogg', 'RR Bhatkal', 'P Awana',\n",
       "       'V Pratap Singh', 'CJ McKay', 'AD Russell', 'A Ashish Reddy',\n",
       "       'Azhar Mahmood', 'A Chandila', 'LJ Wright', 'RJ Peterson',\n",
       "       'R Shukla', 'MJ Clarke', 'BW Hilfenhaus', 'SPD Smith',\n",
       "       'K Upadhyay', 'Sunny Gupta', 'B Laughlin', 'GH Vihari',\n",
       "       'BMAJ Mendis', 'Harmeet Singh (2)', 'R Dhawan', 'R Rampaul',\n",
       "       'SMSM Senanayake', 'JO Holder', 'IC Pandey', 'DJG Sammy',\n",
       "       'KW Richardson', 'P Suyal', 'PV Tambe', 'BJ Rohrer',\n",
       "       'Parvez Rasool', 'MG Neser', 'AC Gilchrist', 'MA Starc',\n",
       "       'JDS Neesham', 'M Vijay', 'SA Yadav', 'Shivam Sharma', 'V Shankar',\n",
       "       'LMP Simmons', 'K Santokie', 'S Gopal', 'BE Hendricks',\n",
       "       'JW Hastings', 'Karanveer Singh', 'DJ Muthuswami', 'SA Abbott',\n",
       "       'J Suchith', 'RG More', 'D Wiese', 'GS Sandhu', 'Gurkeerat Singh',\n",
       "       'M Ashwin', 'C Munro', 'P Sahu', 'KJ Abbott', 'T Shamsi',\n",
       "       'SM Boland', 'Sachin Baby', 'N Rana', 'KS Williamson', 'M Wood',\n",
       "       'M Markande', 'M Ur Rahman', 'K Khejroliya', 'K Gowtham',\n",
       "       'D Short', 'T Curran', 'A Dananjaya', 'S Mavi', 'J Archer',\n",
       "       'L Plunkett', 'I Sodhi', 'M Lomror', 'L Ngidi', 'KM Asif',\n",
       "       'D Willey', 'P Krishna', 'M Ali', 'J Searles', 'S Lamichhane',\n",
       "       'J Dala', 'K Ahmed', 'N Saini', 'S Dube', 'L Ferguson', 'S Sharma',\n",
       "       'R Salam', 'K Paul', 'S Curran', 'V Chakravarthy', 'H Viljoen',\n",
       "       'Mandeep Singh', 'P R Barman', 'M Santner', 'H Vihari',\n",
       "       'J Behrendorff', 'S Kuggeleijn', 'A Joseph', 'H Gurney',\n",
       "       'S Midhun', 'R Parag', 'L Livingstone', 'SN Khan', 'S Rutherford',\n",
       "       'H Brar', 'P Raj', 'O Thomas', 'A Roy', 'S Warrier'], dtype=object)"
      ]
     },
     "execution_count": 36,
     "metadata": {},
     "output_type": "execute_result"
    }
   ],
   "source": [
    "df['bowler'].unique()"
   ]
  },
  {
   "cell_type": "code",
   "execution_count": 37,
   "id": "4b6746cd",
   "metadata": {},
   "outputs": [
    {
     "data": {
      "text/plain": [
       "'SL Malinga'"
      ]
     },
     "execution_count": 37,
     "metadata": {},
     "output_type": "execute_result"
    }
   ],
   "source": [
    "wicket = df.groupby('bowler')['dismissal_kind'].count().idxmax()\n",
    "wicket"
   ]
  },
  {
   "cell_type": "code",
   "execution_count": 109,
   "id": "32233aa7",
   "metadata": {},
   "outputs": [
    {
     "name": "stdout",
     "output_type": "stream",
     "text": [
      "973\n",
      "655\n"
     ]
    }
   ],
   "source": [
    "# What is the strike rate of Kohli in 2016\n",
    "\n",
    "kohli = df[(df['batsman'] == 'V Kohli')&(df['year']==2016)]\n",
    "\n",
    "total_runs = kohli['batsman_runs'].sum()\n",
    "print(total_runs)\n",
    "ball_faced = kohli['ball'].count()\n",
    "print(ball_faced)"
   ]
  },
  {
   "cell_type": "code",
   "execution_count": 44,
   "id": "8ef2b4b1",
   "metadata": {},
   "outputs": [
    {
     "data": {
      "text/plain": [
       "148.54961832061068"
      ]
     },
     "execution_count": 44,
     "metadata": {},
     "output_type": "execute_result"
    }
   ],
   "source": [
    "strike_rate = (total_runs / ball_faced) * 100\n",
    "strike_rate"
   ]
  },
  {
   "cell_type": "code",
   "execution_count": 46,
   "id": "c33872b0",
   "metadata": {},
   "outputs": [
    {
     "data": {
      "text/plain": [
       "'SL Malinga'"
      ]
     },
     "execution_count": 46,
     "metadata": {},
     "output_type": "execute_result"
    }
   ],
   "source": [
    "# Bowlers with maximum number of extras:\n",
    "\n",
    "extra= df.groupby('bowler')['extra_runs'].sum().idxmax()\n",
    "extra"
   ]
  },
  {
   "cell_type": "code",
   "execution_count": 48,
   "id": "6c0dc351",
   "metadata": {},
   "outputs": [
    {
     "data": {
      "text/plain": [
       "'Eden Gardens'"
      ]
     },
     "execution_count": 48,
     "metadata": {},
     "output_type": "execute_result"
    }
   ],
   "source": [
    "venue= df['venue'].value_counts().idxmax()\n",
    "venue"
   ]
  },
  {
   "cell_type": "code",
   "execution_count": 57,
   "id": "a9d56cb9",
   "metadata": {},
   "outputs": [
    {
     "data": {
      "text/plain": [
       "0      Yuvraj Singh\n",
       "1      Yuvraj Singh\n",
       "2      Yuvraj Singh\n",
       "3      Yuvraj Singh\n",
       "4      Yuvraj Singh\n",
       "           ...     \n",
       "243    Yuvraj Singh\n",
       "244    Yuvraj Singh\n",
       "245    Yuvraj Singh\n",
       "246    Yuvraj Singh\n",
       "247    Yuvraj Singh\n",
       "Name: player_of_match, Length: 248, dtype: object"
      ]
     },
     "execution_count": 57,
     "metadata": {},
     "output_type": "execute_result"
    }
   ],
   "source": [
    "#  In 2017 when sunrisers hyderabad clashed against \n",
    "#Royal Challengers Bangalore which team player won player\n",
    "#of the match?\n",
    "\n",
    "player_match = df[(df['year']==2017) & (df['team1']=='Sunrisers Hyderabad') & (df['team2']=='Royal Challengers Bangalore')]['player_of_match']\n",
    "player_match"
   ]
  },
  {
   "cell_type": "code",
   "execution_count": 110,
   "id": "9bc8855f",
   "metadata": {},
   "outputs": [],
   "source": [
    " # Across seasons who are the top three batsman's with most number of run out?\n",
    "\n",
    "run_out = df[df['dismissal_kind']== 'run out']\n",
    "runout = run_out['batsman'].value_counts().head(5)"
   ]
  },
  {
   "cell_type": "code",
   "execution_count": 111,
   "id": "e08db98e",
   "metadata": {},
   "outputs": [
    {
     "data": {
      "text/plain": [
       "MS Dhoni      21\n",
       "RG Sharma     17\n",
       "KD Karthik    16\n",
       "G Gambhir     15\n",
       "V Kohli       15\n",
       "Name: batsman, dtype: int64"
      ]
     },
     "execution_count": 111,
     "metadata": {},
     "output_type": "execute_result"
    }
   ],
   "source": [
    "runout"
   ]
  },
  {
   "cell_type": "code",
   "execution_count": 69,
   "id": "6e1ae9fb",
   "metadata": {},
   "outputs": [
    {
     "data": {
      "text/plain": [
       "114"
      ]
     },
     "execution_count": 69,
     "metadata": {},
     "output_type": "execute_result"
    }
   ],
   "source": [
    "# What are the total runs scored by V Kohli when the bowler was JJ Burmah?\n",
    "\n",
    "tot_run = df[(df['batsman']== 'V Kohli') & (df['bowler'] == 'JJ Bumrah')]\n",
    "totrun = tot_run['total_runs'].sum()\n",
    "totrun"
   ]
  },
  {
   "cell_type": "code",
   "execution_count": 71,
   "id": "ecc7e01f",
   "metadata": {},
   "outputs": [
    {
     "data": {
      "text/plain": [
       "SK Raina      7\n",
       "RG Sharma     6\n",
       "AT Rayudu     5\n",
       "RA Jadeja     5\n",
       "R Dravid      5\n",
       "             ..\n",
       "AB Agarkar    1\n",
       "ML Hayden     1\n",
       "IK Pathan     1\n",
       "MK Tiwary     1\n",
       "JC Buttler    1\n",
       "Name: batsman, Length: 120, dtype: int64"
      ]
     },
     "execution_count": 71,
     "metadata": {},
     "output_type": "execute_result"
    }
   ],
   "source": [
    "# Across all seasons which player was dismissed the maximum number of times via caught and bowled\n",
    "\n",
    "dismis = df[(df['dismissal_kind']=='caught and bowled')]\n",
    "batsman = dismis['batsman'].value_counts()\n",
    "batsman"
   ]
  },
  {
   "cell_type": "code",
   "execution_count": 73,
   "id": "0ba5738a",
   "metadata": {},
   "outputs": [
    {
     "data": {
      "text/plain": [
       "batsman\n",
       "A Ashish Reddy     280\n",
       "A Chandila           4\n",
       "A Chopra            53\n",
       "A Choudhary         25\n",
       "A Dananjaya          4\n",
       "                  ... \n",
       "YV Takawale        192\n",
       "Yashpal Singh       47\n",
       "Younis Khan          3\n",
       "Yuvraj Singh      2765\n",
       "Z Khan             117\n",
       "Name: batsman_runs, Length: 516, dtype: int64"
      ]
     },
     "execution_count": 73,
     "metadata": {},
     "output_type": "execute_result"
    }
   ],
   "source": [
    "player_total_runs = df.groupby('batsman')['batsman_runs'].sum()\n",
    "player_total_runs"
   ]
  },
  {
   "cell_type": "code",
   "execution_count": 74,
   "id": "e229c4c3",
   "metadata": {},
   "outputs": [
    {
     "data": {
      "text/plain": [
       "batsman\n",
       "A Ashish Reddy     31\n",
       "A Chopra            7\n",
       "A Choudhary         2\n",
       "A Flintoff          7\n",
       "A Hales            19\n",
       "                 ... \n",
       "YK Pathan         425\n",
       "YV Takawale        29\n",
       "Yashpal Singh       5\n",
       "Yuvraj Singh      367\n",
       "Z Khan             13\n",
       "Name: batsman_runs, Length: 424, dtype: int64"
      ]
     },
     "execution_count": 74,
     "metadata": {},
     "output_type": "execute_result"
    }
   ],
   "source": [
    "player_boundaries = df[df['batsman_runs'].isin([4, 6])].groupby('batsman')['batsman_runs'].count()\n",
    "player_boundaries"
   ]
  },
  {
   "cell_type": "code",
   "execution_count": 75,
   "id": "e4afc2b8",
   "metadata": {},
   "outputs": [
    {
     "data": {
      "text/plain": [
       "batsman\n",
       "A Ashish Reddy     196\n",
       "A Chandila           7\n",
       "A Chopra            75\n",
       "A Choudhary         20\n",
       "A Dananjaya          5\n",
       "                  ... \n",
       "YV Takawale        183\n",
       "Yashpal Singh       67\n",
       "Younis Khan          7\n",
       "Yuvraj Singh      2207\n",
       "Z Khan             141\n",
       "Name: ball, Length: 516, dtype: int64"
      ]
     },
     "execution_count": 75,
     "metadata": {},
     "output_type": "execute_result"
    }
   ],
   "source": [
    "balls_faced = df.groupby('batsman')['ball'].count()\n",
    "balls_faced"
   ]
  },
  {
   "cell_type": "code",
   "execution_count": 77,
   "id": "258e0602",
   "metadata": {},
   "outputs": [
    {
     "data": {
      "text/plain": [
       "batsman\n",
       "A Ashish Reddy    142.857143\n",
       "A Chandila         57.142857\n",
       "A Chopra           70.666667\n",
       "A Choudhary       125.000000\n",
       "A Dananjaya        80.000000\n",
       "                     ...    \n",
       "YV Takawale       104.918033\n",
       "Yashpal Singh      70.149254\n",
       "Younis Khan        42.857143\n",
       "Yuvraj Singh      125.283190\n",
       "Z Khan             82.978723\n",
       "Length: 516, dtype: float64"
      ]
     },
     "execution_count": 77,
     "metadata": {},
     "output_type": "execute_result"
    }
   ],
   "source": [
    "player_strike_rate = (player_total_runs / balls_faced) * 100\n",
    "player_strike_rate"
   ]
  },
  {
   "cell_type": "code",
   "execution_count": 78,
   "id": "20495fe5",
   "metadata": {},
   "outputs": [
    {
     "data": {
      "text/plain": [
       "batsman\n",
       "A Ashish Reddy    204.081633\n",
       "A Chandila               NaN\n",
       "A Chopra           49.937778\n",
       "A Choudhary       156.250000\n",
       "A Dananjaya              NaN\n",
       "                     ...    \n",
       "YV Takawale       110.077936\n",
       "Yashpal Singh      49.209178\n",
       "Younis Khan              NaN\n",
       "Yuvraj Singh      156.958777\n",
       "Z Khan             68.854685\n",
       "Length: 516, dtype: float64"
      ]
     },
     "execution_count": 78,
     "metadata": {},
     "output_type": "execute_result"
    }
   ],
   "source": [
    "hard_hitting_ability = (player_boundaries * 4 + (player_total_runs - 4 * player_boundaries)) / balls_faced * player_strike_rate\n",
    "hard_hitting_ability"
   ]
  },
  {
   "cell_type": "code",
   "execution_count": 80,
   "id": "836f4fac",
   "metadata": {},
   "outputs": [
    {
     "name": "stdout",
     "output_type": "stream",
     "text": [
      "B Stanlake\n",
      "625.0\n"
     ]
    }
   ],
   "source": [
    "player_highest_ability = hard_hitting_ability.idxmax()\n",
    "highest_ability_score = hard_hitting_ability.max()\n",
    "print(player_highest_ability)\n",
    "print(highest_ability_score)"
   ]
  },
  {
   "cell_type": "code",
   "execution_count": 112,
   "id": "1a3c8a32",
   "metadata": {},
   "outputs": [
    {
     "name": "stdout",
     "output_type": "stream",
     "text": [
      "Years where batting second won more matches:\n",
      "year\n",
      "2012    9402\n",
      "Name: win_by_wickets, dtype: int64\n"
     ]
    }
   ],
   "source": [
    "# Filter data for matches where the team batting second won\n",
    "batting_second_wins = df[df['win_by_wickets'] > 0]\n",
    "\n",
    "# Calculate the count of matches won by teams batting second for each year\n",
    "batting_second_wins_by_year = batting_second_wins.groupby('year')['win_by_wickets'].count()\n",
    "\n",
    "# Find the years where batting second had more wins\n",
    "years_more_batting_second_wins = batting_second_wins_by_year[batting_second_wins_by_year == batting_second_wins_by_year.max()]\n",
    "\n",
    "print(\"Years where batting second won more matches:\")\n",
    "print(years_more_batting_second_wins)\n"
   ]
  },
  {
   "cell_type": "code",
   "execution_count": null,
   "id": "deba7193",
   "metadata": {},
   "outputs": [],
   "source": []
  }
 ],
 "metadata": {
  "kernelspec": {
   "display_name": "Python 3 (ipykernel)",
   "language": "python",
   "name": "python3"
  },
  "language_info": {
   "codemirror_mode": {
    "name": "ipython",
    "version": 3
   },
   "file_extension": ".py",
   "mimetype": "text/x-python",
   "name": "python",
   "nbconvert_exporter": "python",
   "pygments_lexer": "ipython3",
   "version": "3.10.9"
  }
 },
 "nbformat": 4,
 "nbformat_minor": 5
}
